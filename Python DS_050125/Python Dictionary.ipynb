{
 "cells": [
  {
   "cell_type": "markdown",
   "id": "615230a9-630a-46c5-9cfe-747c6a68c81b",
   "metadata": {},
   "source": [
    "### Python dictionary:\n",
    "\n",
    "Rules and guidelines:\n",
    "\n",
    "* Dict is enclosed by {} with key : pair value.\n",
    "* Dict can not stored duplicate key\n",
    "* Dict just like Json dataset.\n",
    "* Dict keys are immutable whereas dictionary value can be immutable and mutable based on the nature of the work.\n",
    "* Dict can be created using dict() and {} as well"
   ]
  },
  {
   "cell_type": "code",
   "execution_count": 1,
   "id": "6b357c04-180e-4cf7-854a-481822b781c1",
   "metadata": {},
   "outputs": [],
   "source": [
    "dct = {}"
   ]
  },
  {
   "cell_type": "code",
   "execution_count": 2,
   "id": "e9543ec9-65c9-4e60-ad22-3c81dc25b4b6",
   "metadata": {},
   "outputs": [
    {
     "data": {
      "text/plain": [
       "dict"
      ]
     },
     "execution_count": 2,
     "metadata": {},
     "output_type": "execute_result"
    }
   ],
   "source": [
    "type(dct)"
   ]
  },
  {
   "cell_type": "code",
   "execution_count": 4,
   "id": "246ccc21-423f-4d6a-a9f2-8e910d7c70c8",
   "metadata": {},
   "outputs": [],
   "source": [
    "dct = {\"empid\" : [101,102,103,104],\n",
    "       \"employeename\" : ['A','B','C','D'],\n",
    "       \"city\" : ['goa','chennai','sydney','new york'],\n",
    "       'salary' : [1000,3400,4500,3400]}"
   ]
  },
  {
   "cell_type": "code",
   "execution_count": 5,
   "id": "185c37c5-5432-410f-a37f-18cd7a69a3a3",
   "metadata": {},
   "outputs": [
    {
     "data": {
      "text/plain": [
       "{'empid': [101, 102, 103, 104],\n",
       " 'employeename': ['A', 'B', 'C', 'D'],\n",
       " 'city': ['goa', 'chennai', 'sydney', 'new york'],\n",
       " 'salary': [1000, 3400, 4500, 3400]}"
      ]
     },
     "execution_count": 5,
     "metadata": {},
     "output_type": "execute_result"
    }
   ],
   "source": [
    "dct"
   ]
  },
  {
   "cell_type": "code",
   "execution_count": 6,
   "id": "93c3991b-cfdf-4b9e-82f4-04c470d2ee89",
   "metadata": {},
   "outputs": [
    {
     "data": {
      "text/plain": [
       "dict_keys(['empid', 'employeename', 'city', 'salary'])"
      ]
     },
     "execution_count": 6,
     "metadata": {},
     "output_type": "execute_result"
    }
   ],
   "source": [
    "# what is keys here\n",
    "dct.keys()"
   ]
  },
  {
   "cell_type": "code",
   "execution_count": 7,
   "id": "92648730-ba6b-401d-aad1-95abcbe395cb",
   "metadata": {},
   "outputs": [
    {
     "data": {
      "text/plain": [
       "dict_values([[101, 102, 103, 104], ['A', 'B', 'C', 'D'], ['goa', 'chennai', 'sydney', 'new york'], [1000, 3400, 4500, 3400]])"
      ]
     },
     "execution_count": 7,
     "metadata": {},
     "output_type": "execute_result"
    }
   ],
   "source": [
    "# values\n",
    "dct.values()"
   ]
  },
  {
   "cell_type": "code",
   "execution_count": 8,
   "id": "7c93b5ab-93d1-4be8-92a8-ae16e6a02c77",
   "metadata": {},
   "outputs": [
    {
     "data": {
      "text/plain": [
       "dict_items([('empid', [101, 102, 103, 104]), ('employeename', ['A', 'B', 'C', 'D']), ('city', ['goa', 'chennai', 'sydney', 'new york']), ('salary', [1000, 3400, 4500, 3400])])"
      ]
     },
     "execution_count": 8,
     "metadata": {},
     "output_type": "execute_result"
    }
   ],
   "source": [
    "dct.items()"
   ]
  },
  {
   "cell_type": "code",
   "execution_count": null,
   "id": "3b08b144-a825-4bc8-8373-ad1896995b1c",
   "metadata": {},
   "outputs": [],
   "source": []
  }
 ],
 "metadata": {
  "kernelspec": {
   "display_name": "Python 3 (ipykernel)",
   "language": "python",
   "name": "python3"
  },
  "language_info": {
   "codemirror_mode": {
    "name": "ipython",
    "version": 3
   },
   "file_extension": ".py",
   "mimetype": "text/x-python",
   "name": "python",
   "nbconvert_exporter": "python",
   "pygments_lexer": "ipython3",
   "version": "3.12.7"
  }
 },
 "nbformat": 4,
 "nbformat_minor": 5
}
