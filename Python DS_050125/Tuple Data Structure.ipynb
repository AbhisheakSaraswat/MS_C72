{
 "cells": [
  {
   "cell_type": "markdown",
   "id": "4fcc7b05-d313-48a4-a001-518d86f2a7f3",
   "metadata": {},
   "source": [
    "### Tuples\n",
    "Rules and guidelines of Tuples:\n",
    "\n",
    "* Tuple is <b> immutable data structure</b> unlike list.\n",
    "* Tuple is also indexable data structure\n",
    "* Tuple object contains two function: index, count"
   ]
  },
  {
   "cell_type": "code",
   "execution_count": 1,
   "id": "d7a45fd1-e475-48de-a4c6-e656b793ad8f",
   "metadata": {},
   "outputs": [],
   "source": [
    "tp = ()"
   ]
  },
  {
   "cell_type": "code",
   "execution_count": 2,
   "id": "9271c37f-93c9-4eac-915b-4626bc462d62",
   "metadata": {},
   "outputs": [
    {
     "data": {
      "text/plain": [
       "()"
      ]
     },
     "execution_count": 2,
     "metadata": {},
     "output_type": "execute_result"
    }
   ],
   "source": [
    "tp"
   ]
  },
  {
   "cell_type": "code",
   "execution_count": 3,
   "id": "4fda292b-a2ed-4000-9176-dce367783363",
   "metadata": {},
   "outputs": [],
   "source": [
    "# Count, Index"
   ]
  },
  {
   "cell_type": "code",
   "execution_count": 4,
   "id": "1198577a-9d8c-4a97-8de5-ee6172657e50",
   "metadata": {},
   "outputs": [],
   "source": [
    "tp = (10,40,50,60,30,450,230,40,60,50)"
   ]
  },
  {
   "cell_type": "code",
   "execution_count": 5,
   "id": "312ff34e-c81b-4b85-8a33-9bc9d99b430d",
   "metadata": {},
   "outputs": [
    {
     "data": {
      "text/plain": [
       "(10, 40, 50, 60, 30, 450, 230, 40, 60, 50)"
      ]
     },
     "execution_count": 5,
     "metadata": {},
     "output_type": "execute_result"
    }
   ],
   "source": [
    "tp"
   ]
  },
  {
   "cell_type": "code",
   "execution_count": 6,
   "id": "b5d86cbe-6f1d-4ec5-b9e7-477ecfea0de0",
   "metadata": {},
   "outputs": [
    {
     "data": {
      "text/plain": [
       "2"
      ]
     },
     "execution_count": 6,
     "metadata": {},
     "output_type": "execute_result"
    }
   ],
   "source": [
    "tp.count(40)"
   ]
  },
  {
   "cell_type": "code",
   "execution_count": 7,
   "id": "057fee45-c685-4bb2-8dfa-b199b6901a60",
   "metadata": {},
   "outputs": [
    {
     "data": {
      "text/plain": [
       "1"
      ]
     },
     "execution_count": 7,
     "metadata": {},
     "output_type": "execute_result"
    }
   ],
   "source": [
    "tp.index(40)"
   ]
  },
  {
   "cell_type": "code",
   "execution_count": 8,
   "id": "ea2274f9-e94e-45a2-8aed-7f198aa8f67c",
   "metadata": {},
   "outputs": [
    {
     "data": {
      "text/plain": [
       "7"
      ]
     },
     "execution_count": 8,
     "metadata": {},
     "output_type": "execute_result"
    }
   ],
   "source": [
    "tp.index(40,1+1)"
   ]
  },
  {
   "cell_type": "code",
   "execution_count": 9,
   "id": "98580bee-cd39-4b56-9384-09046646a4dd",
   "metadata": {},
   "outputs": [],
   "source": [
    "# tuple is a immutable data type"
   ]
  },
  {
   "cell_type": "code",
   "execution_count": 10,
   "id": "5b175b2a-1103-40de-8fb7-6500b05b2734",
   "metadata": {},
   "outputs": [
    {
     "data": {
      "text/plain": [
       "(10, 40, 50, 60, 30, 450, 230, 40, 60, 50)"
      ]
     },
     "execution_count": 10,
     "metadata": {},
     "output_type": "execute_result"
    }
   ],
   "source": [
    "tp"
   ]
  },
  {
   "cell_type": "code",
   "execution_count": 11,
   "id": "6b69ac86-4925-4f37-95e6-74af8652116e",
   "metadata": {},
   "outputs": [
    {
     "data": {
      "text/plain": [
       "50"
      ]
     },
     "execution_count": 11,
     "metadata": {},
     "output_type": "execute_result"
    }
   ],
   "source": [
    "tp[-1]"
   ]
  },
  {
   "cell_type": "code",
   "execution_count": 12,
   "id": "ea2f7804-d35f-4e7d-9e6a-adae12a0177a",
   "metadata": {},
   "outputs": [
    {
     "ename": "TypeError",
     "evalue": "'tuple' object does not support item assignment",
     "output_type": "error",
     "traceback": [
      "\u001b[0;31m---------------------------------------------------------------------------\u001b[0m",
      "\u001b[0;31mTypeError\u001b[0m                                 Traceback (most recent call last)",
      "Cell \u001b[0;32mIn[12], line 1\u001b[0m\n\u001b[0;32m----> 1\u001b[0m tp[\u001b[38;5;241m-\u001b[39m\u001b[38;5;241m1\u001b[39m] \u001b[38;5;241m=\u001b[39m \u001b[38;5;241m100\u001b[39m\n",
      "\u001b[0;31mTypeError\u001b[0m: 'tuple' object does not support item assignment"
     ]
    }
   ],
   "source": [
    "tp[-1] = 100"
   ]
  },
  {
   "cell_type": "code",
   "execution_count": 13,
   "id": "6672449f-e424-45bf-b9a7-ce7fb3903059",
   "metadata": {},
   "outputs": [],
   "source": [
    "lst = [20,40,60,70]"
   ]
  },
  {
   "cell_type": "code",
   "execution_count": 14,
   "id": "e8f3b87e-2ab8-4a3a-aa21-14fb4fe70572",
   "metadata": {},
   "outputs": [],
   "source": [
    "lst[-1] = 100"
   ]
  },
  {
   "cell_type": "code",
   "execution_count": 15,
   "id": "6606c05b-0a24-4eb9-9fd3-80136cf31feb",
   "metadata": {},
   "outputs": [
    {
     "data": {
      "text/plain": [
       "[20, 40, 60, 100]"
      ]
     },
     "execution_count": 15,
     "metadata": {},
     "output_type": "execute_result"
    }
   ],
   "source": [
    "lst"
   ]
  },
  {
   "cell_type": "code",
   "execution_count": 16,
   "id": "51c1ae7f-ed60-445c-81d6-27f507413d42",
   "metadata": {},
   "outputs": [],
   "source": [
    "tp1 = tuple()"
   ]
  },
  {
   "cell_type": "code",
   "execution_count": 17,
   "id": "48033d54-9ea5-4893-91ac-fc95a6428cc2",
   "metadata": {},
   "outputs": [
    {
     "data": {
      "text/plain": [
       "()"
      ]
     },
     "execution_count": 17,
     "metadata": {},
     "output_type": "execute_result"
    }
   ],
   "source": [
    "tp1"
   ]
  },
  {
   "cell_type": "code",
   "execution_count": 18,
   "id": "361d7673-7a94-4544-8686-90c37285813e",
   "metadata": {},
   "outputs": [],
   "source": [
    "tp = (1,5,7,8,[10,30,45],30,50)"
   ]
  },
  {
   "cell_type": "code",
   "execution_count": 19,
   "id": "38692bf1-5244-49fa-b414-9957cb005351",
   "metadata": {},
   "outputs": [
    {
     "data": {
      "text/plain": [
       "(1, 5, 7, 8, [10, 30, 45], 30, 50)"
      ]
     },
     "execution_count": 19,
     "metadata": {},
     "output_type": "execute_result"
    }
   ],
   "source": [
    "tp"
   ]
  },
  {
   "cell_type": "code",
   "execution_count": 20,
   "id": "9e2454e9-2de1-4fcb-bbb7-e17005f71664",
   "metadata": {},
   "outputs": [
    {
     "data": {
      "text/plain": [
       "30"
      ]
     },
     "execution_count": 20,
     "metadata": {},
     "output_type": "execute_result"
    }
   ],
   "source": [
    "tp[-2]"
   ]
  },
  {
   "cell_type": "code",
   "execution_count": 21,
   "id": "67127256-7bd1-4b0a-8088-7bd286193d6a",
   "metadata": {},
   "outputs": [
    {
     "data": {
      "text/plain": [
       "[10, 30, 45]"
      ]
     },
     "execution_count": 21,
     "metadata": {},
     "output_type": "execute_result"
    }
   ],
   "source": [
    "tp[-3]"
   ]
  },
  {
   "cell_type": "code",
   "execution_count": 22,
   "id": "815a5fff-45ba-44e7-baa2-00e9ea2b6e92",
   "metadata": {},
   "outputs": [],
   "source": [
    "tp[-3].append(\"Parul\")"
   ]
  },
  {
   "cell_type": "code",
   "execution_count": 23,
   "id": "2dc08bf7-ffa3-4eeb-91f6-d820d64c6be4",
   "metadata": {},
   "outputs": [
    {
     "data": {
      "text/plain": [
       "(1, 5, 7, 8, [10, 30, 45, 'Parul'], 30, 50)"
      ]
     },
     "execution_count": 23,
     "metadata": {},
     "output_type": "execute_result"
    }
   ],
   "source": [
    "tp"
   ]
  },
  {
   "cell_type": "markdown",
   "id": "94156875-d888-4d5b-bfc3-2b710e74182e",
   "metadata": {},
   "source": [
    "any item if you found as a mutable or immutable that will behave accordingly."
   ]
  },
  {
   "cell_type": "code",
   "execution_count": 24,
   "id": "61a750e4-3b7f-49db-9330-bc8fa65169bf",
   "metadata": {},
   "outputs": [
    {
     "data": {
      "text/plain": [
       "[20, 40, 60, 100]"
      ]
     },
     "execution_count": 24,
     "metadata": {},
     "output_type": "execute_result"
    }
   ],
   "source": [
    "lst"
   ]
  },
  {
   "cell_type": "code",
   "execution_count": 25,
   "id": "22559380-4b3f-4203-87ff-d127f5883410",
   "metadata": {},
   "outputs": [],
   "source": [
    "lst.append((10,30,40))"
   ]
  },
  {
   "cell_type": "code",
   "execution_count": 26,
   "id": "eea87c5b-ec79-48a0-9b24-aa50d0d96ad4",
   "metadata": {},
   "outputs": [
    {
     "data": {
      "text/plain": [
       "[20, 40, 60, 100, (10, 30, 40)]"
      ]
     },
     "execution_count": 26,
     "metadata": {},
     "output_type": "execute_result"
    }
   ],
   "source": [
    "lst"
   ]
  },
  {
   "cell_type": "code",
   "execution_count": null,
   "id": "99eb96df-c4cd-4303-a7bb-19d8edab4af6",
   "metadata": {},
   "outputs": [],
   "source": [
    "tp."
   ]
  }
 ],
 "metadata": {
  "kernelspec": {
   "display_name": "Python 3 (ipykernel)",
   "language": "python",
   "name": "python3"
  },
  "language_info": {
   "codemirror_mode": {
    "name": "ipython",
    "version": 3
   },
   "file_extension": ".py",
   "mimetype": "text/x-python",
   "name": "python",
   "nbconvert_exporter": "python",
   "pygments_lexer": "ipython3",
   "version": "3.12.7"
  }
 },
 "nbformat": 4,
 "nbformat_minor": 5
}
