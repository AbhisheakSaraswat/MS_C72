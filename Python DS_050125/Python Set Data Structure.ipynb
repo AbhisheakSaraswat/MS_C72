{
 "cells": [
  {
   "cell_type": "markdown",
   "id": "bc516c34-073d-4ab7-9c03-bebcb094850a",
   "metadata": {},
   "source": [
    "### Set Data Structure:\n",
    "\n",
    "Rules and guidelines:\n",
    "* Set ds is an un-ordered collections of item.\n",
    "* Set is a mutable data type\n",
    "* Set does not allowed duplicate item, means set will contains only distinct item\n",
    "* Set can created using set function\n",
    "* Set and dict are represented by {}\n",
    "* Note: Based on the nature of the data, we can understand it is set or dict.\n",
    "* Using set we can perform mathematical operations\n",
    "* Set is a non-indexable data structure."
   ]
  },
  {
   "cell_type": "code",
   "execution_count": 1,
   "id": "3175aa63-019b-4736-a0f7-0e7c55650f32",
   "metadata": {},
   "outputs": [],
   "source": [
    "st = set()"
   ]
  },
  {
   "cell_type": "code",
   "execution_count": 2,
   "id": "64b26638-5617-412b-86d4-622cce3ff627",
   "metadata": {},
   "outputs": [],
   "source": [
    "st = {}"
   ]
  },
  {
   "cell_type": "code",
   "execution_count": 3,
   "id": "993baad9-ec41-43d5-9759-6da8bfc156c8",
   "metadata": {},
   "outputs": [
    {
     "data": {
      "text/plain": [
       "dict"
      ]
     },
     "execution_count": 3,
     "metadata": {},
     "output_type": "execute_result"
    }
   ],
   "source": [
    "type(st)"
   ]
  },
  {
   "cell_type": "code",
   "execution_count": 4,
   "id": "7a18e5df-3864-499c-aee8-462a78683f79",
   "metadata": {},
   "outputs": [],
   "source": [
    "st = {1,5,8,5,1,1,5,1,10,\"A\",10,320,40,'X','I'}"
   ]
  },
  {
   "cell_type": "code",
   "execution_count": 5,
   "id": "4b610365-ae6b-4a25-9731-54e0a79b96f2",
   "metadata": {},
   "outputs": [
    {
     "data": {
      "text/plain": [
       "{1, 10, 320, 40, 5, 8, 'A', 'I', 'X'}"
      ]
     },
     "execution_count": 5,
     "metadata": {},
     "output_type": "execute_result"
    }
   ],
   "source": [
    "st"
   ]
  },
  {
   "cell_type": "code",
   "execution_count": 6,
   "id": "d5c661b4-2de7-4958-8c33-0e4b2aca26ea",
   "metadata": {},
   "outputs": [],
   "source": [
    "st1 = {4,5,7}"
   ]
  },
  {
   "cell_type": "markdown",
   "id": "c69c3e84-a8d5-46d3-87e0-732dae94632d",
   "metadata": {},
   "source": [
    "### Add an item"
   ]
  },
  {
   "cell_type": "code",
   "execution_count": 7,
   "id": "e3fb89ef-aabe-443e-85ba-6cfd128effaa",
   "metadata": {},
   "outputs": [],
   "source": [
    "st1.add('Rohit')"
   ]
  },
  {
   "cell_type": "code",
   "execution_count": 8,
   "id": "69d3f95c-b0e4-4313-b498-38c8da08ea99",
   "metadata": {},
   "outputs": [
    {
     "data": {
      "text/plain": [
       "{4, 5, 7, 'Rohit'}"
      ]
     },
     "execution_count": 8,
     "metadata": {},
     "output_type": "execute_result"
    }
   ],
   "source": [
    "st1"
   ]
  },
  {
   "cell_type": "code",
   "execution_count": 9,
   "id": "4be9086b-7480-4f61-97ee-c9467d63991f",
   "metadata": {},
   "outputs": [],
   "source": [
    "# what if I want to add multiple items"
   ]
  },
  {
   "cell_type": "code",
   "execution_count": 10,
   "id": "f90f2b07-f6ef-4818-9a7f-a38aac3b7702",
   "metadata": {},
   "outputs": [],
   "source": [
    "st1.update([10,20,56.67,True, False, 34,56,67,67,10])"
   ]
  },
  {
   "cell_type": "code",
   "execution_count": 11,
   "id": "81b5c554-21fb-4d3c-8f45-e4fd7db5977e",
   "metadata": {},
   "outputs": [
    {
     "data": {
      "text/plain": [
       "{10, 20, 34, 4, 5, 56, 56.67, 67, 7, False, 'Rohit', True}"
      ]
     },
     "execution_count": 11,
     "metadata": {},
     "output_type": "execute_result"
    }
   ],
   "source": [
    "st1"
   ]
  },
  {
   "cell_type": "markdown",
   "id": "110ca090-a466-43ed-8189-166f309f0c51",
   "metadata": {},
   "source": [
    "### Set Mathematical Operations\n",
    "intersection, union, symmetric_difference, update etc"
   ]
  },
  {
   "cell_type": "code",
   "execution_count": 12,
   "id": "907ccfe6-9dd1-441b-a94c-6da333b16413",
   "metadata": {},
   "outputs": [],
   "source": [
    "set1 = {1,5,7,8,9,10,45,67,89,'A'}\n",
    "set2 = {4,6,7,9,0,\"A\",'M',67,89,90}"
   ]
  },
  {
   "cell_type": "code",
   "execution_count": 13,
   "id": "5b68017d-1d39-4d85-a2af-7339268c5621",
   "metadata": {},
   "outputs": [
    {
     "data": {
      "text/plain": [
       "{1, 10, 45, 5, 67, 7, 8, 89, 9, 'A'}"
      ]
     },
     "execution_count": 13,
     "metadata": {},
     "output_type": "execute_result"
    }
   ],
   "source": [
    "set1"
   ]
  },
  {
   "cell_type": "code",
   "execution_count": 14,
   "id": "62d9358c-6067-4ee5-8f84-a86d4847cff3",
   "metadata": {},
   "outputs": [
    {
     "data": {
      "text/plain": [
       "{0, 4, 6, 67, 7, 89, 9, 90, 'A', 'M'}"
      ]
     },
     "execution_count": 14,
     "metadata": {},
     "output_type": "execute_result"
    }
   ],
   "source": [
    "set2"
   ]
  },
  {
   "cell_type": "code",
   "execution_count": 15,
   "id": "e0a4d798-3144-4ec5-a186-889e52a08eae",
   "metadata": {},
   "outputs": [],
   "source": [
    "# common records"
   ]
  },
  {
   "cell_type": "code",
   "execution_count": 16,
   "id": "8cd5efe6-a1c6-4ad8-92dc-922e74490f55",
   "metadata": {},
   "outputs": [
    {
     "data": {
      "text/plain": [
       "{67, 7, 89, 9, 'A'}"
      ]
     },
     "execution_count": 16,
     "metadata": {},
     "output_type": "execute_result"
    }
   ],
   "source": [
    "set1.intersection(set2)"
   ]
  },
  {
   "cell_type": "code",
   "execution_count": 17,
   "id": "99a24ca1-611f-4759-8bf6-743096a228ff",
   "metadata": {},
   "outputs": [
    {
     "data": {
      "text/plain": [
       "{67, 7, 89, 9, 'A'}"
      ]
     },
     "execution_count": 17,
     "metadata": {},
     "output_type": "execute_result"
    }
   ],
   "source": [
    "set1 & set2"
   ]
  },
  {
   "cell_type": "markdown",
   "id": "ea90921b-a791-4117-98d8-b05ff9e37c37",
   "metadata": {},
   "source": [
    "### Union :"
   ]
  },
  {
   "cell_type": "code",
   "execution_count": 18,
   "id": "60036bb6-6d22-422c-83e2-8c3013650077",
   "metadata": {},
   "outputs": [
    {
     "data": {
      "text/plain": [
       "{1, 10, 45, 5, 67, 7, 8, 89, 9, 'A'}"
      ]
     },
     "execution_count": 18,
     "metadata": {},
     "output_type": "execute_result"
    }
   ],
   "source": [
    "set1"
   ]
  },
  {
   "cell_type": "code",
   "execution_count": 19,
   "id": "c17430a0-b23d-4eb2-9ed8-cf2bd6686d23",
   "metadata": {},
   "outputs": [
    {
     "data": {
      "text/plain": [
       "{0, 4, 6, 67, 7, 89, 9, 90, 'A', 'M'}"
      ]
     },
     "execution_count": 19,
     "metadata": {},
     "output_type": "execute_result"
    }
   ],
   "source": [
    "set2"
   ]
  },
  {
   "cell_type": "code",
   "execution_count": 20,
   "id": "18d8d20c-17cd-4ef0-b880-c77900634743",
   "metadata": {},
   "outputs": [
    {
     "data": {
      "text/plain": [
       "{0, 1, 10, 4, 45, 5, 6, 67, 7, 8, 89, 9, 90, 'A', 'M'}"
      ]
     },
     "execution_count": 20,
     "metadata": {},
     "output_type": "execute_result"
    }
   ],
   "source": [
    "set1.union(set2)"
   ]
  },
  {
   "cell_type": "code",
   "execution_count": 21,
   "id": "176647ce-c34b-4d21-9b25-b9b0a221d250",
   "metadata": {},
   "outputs": [
    {
     "data": {
      "text/plain": [
       "{0, 1, 10, 4, 45, 5, 6, 67, 7, 8, 89, 9, 90, 'A', 'M'}"
      ]
     },
     "execution_count": 21,
     "metadata": {},
     "output_type": "execute_result"
    }
   ],
   "source": [
    "set1 | set2"
   ]
  },
  {
   "cell_type": "markdown",
   "id": "138c7f26-4c29-463d-b9ef-30fb5eb6d0cb",
   "metadata": {},
   "source": [
    "### Symmetric_difference\n",
    "\n",
    "except common in both."
   ]
  },
  {
   "cell_type": "code",
   "execution_count": 22,
   "id": "c2a49112-a924-4909-91d3-fb26fd70054b",
   "metadata": {},
   "outputs": [
    {
     "data": {
      "text/plain": [
       "{1, 10, 45, 5, 67, 7, 8, 89, 9, 'A'}"
      ]
     },
     "execution_count": 22,
     "metadata": {},
     "output_type": "execute_result"
    }
   ],
   "source": [
    "set1"
   ]
  },
  {
   "cell_type": "code",
   "execution_count": 23,
   "id": "45dd2f69-1c3d-4094-838c-d1151b078ddb",
   "metadata": {},
   "outputs": [
    {
     "data": {
      "text/plain": [
       "{0, 4, 6, 67, 7, 89, 9, 90, 'A', 'M'}"
      ]
     },
     "execution_count": 23,
     "metadata": {},
     "output_type": "execute_result"
    }
   ],
   "source": [
    "set2"
   ]
  },
  {
   "cell_type": "code",
   "execution_count": 24,
   "id": "82d549cd-f638-4644-a02c-9fb64586eeda",
   "metadata": {},
   "outputs": [
    {
     "data": {
      "text/plain": [
       "{0, 1, 10, 4, 45, 5, 6, 8, 90, 'M'}"
      ]
     },
     "execution_count": 24,
     "metadata": {},
     "output_type": "execute_result"
    }
   ],
   "source": [
    "set1.symmetric_difference(set2)"
   ]
  },
  {
   "cell_type": "code",
   "execution_count": 25,
   "id": "79220e6b-9646-4863-ae7b-9ef75de16532",
   "metadata": {},
   "outputs": [
    {
     "data": {
      "text/plain": [
       "{0, 1, 10, 4, 45, 5, 6, 8, 90, 'M'}"
      ]
     },
     "execution_count": 25,
     "metadata": {},
     "output_type": "execute_result"
    }
   ],
   "source": [
    "set1 ^ set2"
   ]
  },
  {
   "cell_type": "code",
   "execution_count": 26,
   "id": "3019cdd9-0059-41c1-a70b-7fcaaaaf0e42",
   "metadata": {},
   "outputs": [],
   "source": [
    "# difference"
   ]
  },
  {
   "cell_type": "code",
   "execution_count": 27,
   "id": "cec03442-573b-47e7-afc1-c6ad799f5f6f",
   "metadata": {},
   "outputs": [
    {
     "data": {
      "text/plain": [
       "{1, 10, 45, 5, 67, 7, 8, 89, 9, 'A'}"
      ]
     },
     "execution_count": 27,
     "metadata": {},
     "output_type": "execute_result"
    }
   ],
   "source": [
    "set1"
   ]
  },
  {
   "cell_type": "code",
   "execution_count": 28,
   "id": "65455808-7722-4b78-b412-34de0ef3bf63",
   "metadata": {},
   "outputs": [
    {
     "data": {
      "text/plain": [
       "{0, 4, 6, 67, 7, 89, 9, 90, 'A', 'M'}"
      ]
     },
     "execution_count": 28,
     "metadata": {},
     "output_type": "execute_result"
    }
   ],
   "source": [
    "set2"
   ]
  },
  {
   "cell_type": "code",
   "execution_count": 29,
   "id": "b27c57f5-3425-4e13-ae63-7a748c9152aa",
   "metadata": {},
   "outputs": [
    {
     "data": {
      "text/plain": [
       "{0, 4, 6, 67, 7, 89, 9, 90, 'A', 'M'}"
      ]
     },
     "execution_count": 29,
     "metadata": {},
     "output_type": "execute_result"
    }
   ],
   "source": [
    "set2"
   ]
  },
  {
   "cell_type": "code",
   "execution_count": 30,
   "id": "b23af0e5-4ca9-4dc9-9ea0-455c5094d736",
   "metadata": {},
   "outputs": [
    {
     "data": {
      "text/plain": [
       "{0, 4, 6, 67, 7, 89, 9, 90, 'A', 'M'}"
      ]
     },
     "execution_count": 30,
     "metadata": {},
     "output_type": "execute_result"
    }
   ],
   "source": [
    "set2"
   ]
  },
  {
   "cell_type": "code",
   "execution_count": 31,
   "id": "ab5f7c1b-b237-4b55-9636-a517dee4bc69",
   "metadata": {},
   "outputs": [
    {
     "data": {
      "text/plain": [
       "{0, 4, 6, 67, 7, 89, 9, 90, 'A', 'M'}"
      ]
     },
     "execution_count": 31,
     "metadata": {},
     "output_type": "execute_result"
    }
   ],
   "source": [
    "set2"
   ]
  },
  {
   "cell_type": "code",
   "execution_count": 32,
   "id": "b91bf117-7bcc-494f-9875-36d2723ff069",
   "metadata": {},
   "outputs": [
    {
     "name": "stdout",
     "output_type": "stream",
     "text": [
      "MySetElements as follows:  {0, 67, 4, 'M', 6, 7, 9, 'A', 89, 90}\n",
      "MySetElements as follows:  {0, 67, 4, 'M', 6, 7, 9, 'A', 89, 90}\n",
      "MySetElements as follows:  {0, 67, 4, 'M', 6, 7, 9, 'A', 89, 90}\n",
      "MySetElements as follows:  {0, 67, 4, 'M', 6, 7, 9, 'A', 89, 90}\n",
      "MySetElements as follows:  {0, 67, 4, 'M', 6, 7, 9, 'A', 89, 90}\n",
      "MySetElements as follows:  {0, 67, 4, 'M', 6, 7, 9, 'A', 89, 90}\n",
      "MySetElements as follows:  {0, 67, 4, 'M', 6, 7, 9, 'A', 89, 90}\n",
      "MySetElements as follows:  {0, 67, 4, 'M', 6, 7, 9, 'A', 89, 90}\n"
     ]
    }
   ],
   "source": [
    "print(\"MySetElements as follows: \",set2)\n",
    "print(\"MySetElements as follows: \",set2)\n",
    "print(\"MySetElements as follows: \",set2)\n",
    "print(\"MySetElements as follows: \",set2)\n",
    "print(\"MySetElements as follows: \",set2)\n",
    "print(\"MySetElements as follows: \",set2)\n",
    "print(\"MySetElements as follows: \",set2)\n",
    "\n",
    "print(\"MySetElements as follows: \",set2)"
   ]
  },
  {
   "cell_type": "code",
   "execution_count": 34,
   "id": "3bd2f5cc-0578-47a5-ae88-4466ca72d25b",
   "metadata": {},
   "outputs": [],
   "source": [
    "# print(\"All Function from List: \", [i for i in dir(list) if \"__\" not in i])\n",
    "# print(\"All Function from tuple: \", [i for i in dir(tuple) if \"__\" not in i])\n",
    "# print(\"All Function from str: \", [i for i in dir(str) if \"__\" not in i])\n",
    "# print(\"All Function from dict: \", [i for i in dir(dict) if \"__\" not in i])"
   ]
  },
  {
   "cell_type": "code",
   "execution_count": 35,
   "id": "9baa953f-b641-4ebd-9386-eda16c496a2d",
   "metadata": {},
   "outputs": [
    {
     "data": {
      "text/plain": [
       "{1, 10, 45, 5, 67, 7, 8, 89, 9, 'A'}"
      ]
     },
     "execution_count": 35,
     "metadata": {},
     "output_type": "execute_result"
    }
   ],
   "source": [
    "set1"
   ]
  },
  {
   "cell_type": "code",
   "execution_count": 36,
   "id": "ca6716ca-da5d-411c-a2c4-816713e370b5",
   "metadata": {},
   "outputs": [
    {
     "data": {
      "text/plain": [
       "{0, 4, 6, 67, 7, 89, 9, 90, 'A', 'M'}"
      ]
     },
     "execution_count": 36,
     "metadata": {},
     "output_type": "execute_result"
    }
   ],
   "source": [
    "set2"
   ]
  },
  {
   "cell_type": "code",
   "execution_count": 37,
   "id": "d4c18f6f-6510-40e0-8547-c15adc336510",
   "metadata": {},
   "outputs": [
    {
     "data": {
      "text/plain": [
       "{1, 5, 8, 10, 45}"
      ]
     },
     "execution_count": 37,
     "metadata": {},
     "output_type": "execute_result"
    }
   ],
   "source": [
    "set1.difference(set2)"
   ]
  },
  {
   "cell_type": "code",
   "execution_count": 38,
   "id": "990bd588-fcaf-41e2-8fa7-17ad25bb4509",
   "metadata": {},
   "outputs": [
    {
     "data": {
      "text/plain": [
       "{0, 4, 6, 90, 'M'}"
      ]
     },
     "execution_count": 38,
     "metadata": {},
     "output_type": "execute_result"
    }
   ],
   "source": [
    "set2.difference(set1)"
   ]
  },
  {
   "cell_type": "code",
   "execution_count": 39,
   "id": "94d3a4b8-bf1a-42d4-a04f-cea1da33075d",
   "metadata": {},
   "outputs": [],
   "source": [
    "# isdisjoint\n",
    "# issubset\n",
    "# issuperset"
   ]
  },
  {
   "cell_type": "code",
   "execution_count": 40,
   "id": "c5b7c838-c286-4aca-818b-64e2125a3e2f",
   "metadata": {},
   "outputs": [
    {
     "data": {
      "text/plain": [
       "{1, 10, 45, 5, 67, 7, 8, 89, 9, 'A'}"
      ]
     },
     "execution_count": 40,
     "metadata": {},
     "output_type": "execute_result"
    }
   ],
   "source": [
    "set1"
   ]
  },
  {
   "cell_type": "code",
   "execution_count": 42,
   "id": "17cd04dd-aaff-4001-b265-c50b36d5c5a9",
   "metadata": {},
   "outputs": [],
   "source": [
    "nset = {45,'A',9}"
   ]
  },
  {
   "cell_type": "code",
   "execution_count": 43,
   "id": "311c0f1e-2489-4068-af69-129de0cc51b0",
   "metadata": {},
   "outputs": [
    {
     "data": {
      "text/plain": [
       "True"
      ]
     },
     "execution_count": 43,
     "metadata": {},
     "output_type": "execute_result"
    }
   ],
   "source": [
    "nset.issubset(set1)"
   ]
  },
  {
   "cell_type": "code",
   "execution_count": 44,
   "id": "2fe6b387-dd58-4d1d-9d50-3fdaed590ecd",
   "metadata": {},
   "outputs": [
    {
     "data": {
      "text/plain": [
       "True"
      ]
     },
     "execution_count": 44,
     "metadata": {},
     "output_type": "execute_result"
    }
   ],
   "source": [
    "set1.issuperset(nset)"
   ]
  },
  {
   "cell_type": "code",
   "execution_count": 45,
   "id": "6891dbf7-4e9e-4517-9dbf-3b8aab1bce2e",
   "metadata": {},
   "outputs": [
    {
     "data": {
      "text/plain": [
       "{1, 10, 45, 5, 67, 7, 8, 89, 9, 'A'}"
      ]
     },
     "execution_count": 45,
     "metadata": {},
     "output_type": "execute_result"
    }
   ],
   "source": [
    "set1"
   ]
  },
  {
   "cell_type": "code",
   "execution_count": 47,
   "id": "306a95ff-fb79-4c27-ac28-d292c7e2343f",
   "metadata": {},
   "outputs": [],
   "source": [
    "r = {49,66,88,99,0}"
   ]
  },
  {
   "cell_type": "code",
   "execution_count": 48,
   "id": "09d92694-91e8-44a8-a02f-752060171e58",
   "metadata": {},
   "outputs": [
    {
     "data": {
      "text/plain": [
       "True"
      ]
     },
     "execution_count": 48,
     "metadata": {},
     "output_type": "execute_result"
    }
   ],
   "source": [
    "r.isdisjoint(set1)"
   ]
  },
  {
   "cell_type": "code",
   "execution_count": 49,
   "id": "be9cc696-41d5-4400-8402-8df20b38e23a",
   "metadata": {},
   "outputs": [],
   "source": [
    "r.add(89)"
   ]
  },
  {
   "cell_type": "code",
   "execution_count": 50,
   "id": "2d7cdfa0-8fd0-46b7-b417-a95d62de1e8f",
   "metadata": {},
   "outputs": [
    {
     "data": {
      "text/plain": [
       "{0, 49, 66, 88, 89, 99}"
      ]
     },
     "execution_count": 50,
     "metadata": {},
     "output_type": "execute_result"
    }
   ],
   "source": [
    "r"
   ]
  },
  {
   "cell_type": "code",
   "execution_count": 51,
   "id": "a0a14b8a-73a2-452f-ba44-3fe101004181",
   "metadata": {},
   "outputs": [
    {
     "data": {
      "text/plain": [
       "False"
      ]
     },
     "execution_count": 51,
     "metadata": {},
     "output_type": "execute_result"
    }
   ],
   "source": [
    "r.isdisjoint(set1)"
   ]
  },
  {
   "cell_type": "code",
   "execution_count": 52,
   "id": "2f8736b0-a1d6-4306-9c86-7ee995708a99",
   "metadata": {},
   "outputs": [],
   "source": [
    "# difference_update\n",
    "# intersection_update\n",
    "# symmetric_difference_update"
   ]
  },
  {
   "cell_type": "code",
   "execution_count": 53,
   "id": "6081d9e7-68cf-4246-a44d-fcefc309c4b3",
   "metadata": {},
   "outputs": [
    {
     "data": {
      "text/plain": [
       "{1, 10, 45, 5, 67, 7, 8, 89, 9, 'A'}"
      ]
     },
     "execution_count": 53,
     "metadata": {},
     "output_type": "execute_result"
    }
   ],
   "source": [
    "set1"
   ]
  },
  {
   "cell_type": "code",
   "execution_count": 54,
   "id": "b5198f5d-783a-41e3-8c12-ac433b33e487",
   "metadata": {},
   "outputs": [
    {
     "data": {
      "text/plain": [
       "{0, 4, 6, 67, 7, 89, 9, 90, 'A', 'M'}"
      ]
     },
     "execution_count": 54,
     "metadata": {},
     "output_type": "execute_result"
    }
   ],
   "source": [
    "set2"
   ]
  },
  {
   "cell_type": "code",
   "execution_count": 55,
   "id": "f3d0cb21-a1c6-4d6d-82a5-aed3ce53ecf9",
   "metadata": {},
   "outputs": [
    {
     "data": {
      "text/plain": [
       "{67, 7, 89, 9, 'A'}"
      ]
     },
     "execution_count": 55,
     "metadata": {},
     "output_type": "execute_result"
    }
   ],
   "source": [
    "set1.intersection(set2)"
   ]
  },
  {
   "cell_type": "code",
   "execution_count": 56,
   "id": "ea4d6285-3f7c-4a76-afa4-27135bf16576",
   "metadata": {},
   "outputs": [],
   "source": [
    "set1.intersection_update(set2)"
   ]
  },
  {
   "cell_type": "code",
   "execution_count": 57,
   "id": "fa9ac15c-833f-4aa7-9099-86c2bc11b315",
   "metadata": {},
   "outputs": [
    {
     "data": {
      "text/plain": [
       "{67, 7, 89, 9, 'A'}"
      ]
     },
     "execution_count": 57,
     "metadata": {},
     "output_type": "execute_result"
    }
   ],
   "source": [
    "set1"
   ]
  },
  {
   "cell_type": "code",
   "execution_count": 59,
   "id": "73cdf659-cb3b-44ae-b5f8-cf92b7f0710a",
   "metadata": {},
   "outputs": [],
   "source": [
    "a = {3,4,5,6,0}\n",
    "b = {5,7,9,22}"
   ]
  },
  {
   "cell_type": "code",
   "execution_count": 60,
   "id": "ee3333ee-6d68-491d-ba98-31c506477d3f",
   "metadata": {},
   "outputs": [
    {
     "data": {
      "text/plain": [
       "{0, 3, 4, 6}"
      ]
     },
     "execution_count": 60,
     "metadata": {},
     "output_type": "execute_result"
    }
   ],
   "source": [
    "a - b"
   ]
  },
  {
   "cell_type": "code",
   "execution_count": 61,
   "id": "05fb6bc5-6a6b-4321-a6f9-90711f02ea00",
   "metadata": {},
   "outputs": [
    {
     "data": {
      "text/plain": [
       "{0, 3, 4, 6}"
      ]
     },
     "execution_count": 61,
     "metadata": {},
     "output_type": "execute_result"
    }
   ],
   "source": [
    "a.difference_update(b)\n",
    "a"
   ]
  },
  {
   "cell_type": "code",
   "execution_count": 58,
   "id": "091800d0-8f04-40fb-9c61-995b8cea8a21",
   "metadata": {},
   "outputs": [],
   "source": [
    "# remove, discard, pop"
   ]
  },
  {
   "cell_type": "code",
   "execution_count": 62,
   "id": "a659c8ed-1c92-4054-b1f7-57cc5834bf01",
   "metadata": {},
   "outputs": [
    {
     "data": {
      "text/plain": [
       "{0, 3, 4, 6}"
      ]
     },
     "execution_count": 62,
     "metadata": {},
     "output_type": "execute_result"
    }
   ],
   "source": [
    "a"
   ]
  },
  {
   "cell_type": "code",
   "execution_count": 63,
   "id": "72d05e25-4500-4092-bff1-c0190e9fffb4",
   "metadata": {},
   "outputs": [
    {
     "data": {
      "text/plain": [
       "{5, 7, 9, 22}"
      ]
     },
     "execution_count": 63,
     "metadata": {},
     "output_type": "execute_result"
    }
   ],
   "source": [
    "b"
   ]
  },
  {
   "cell_type": "code",
   "execution_count": 64,
   "id": "c28c51fa-aba8-454d-bbcb-bac397ef6223",
   "metadata": {},
   "outputs": [
    {
     "data": {
      "text/plain": [
       "{0, 3, 4, 5, 6, 7, 9, 22}"
      ]
     },
     "execution_count": 64,
     "metadata": {},
     "output_type": "execute_result"
    }
   ],
   "source": [
    "a ^ b"
   ]
  },
  {
   "cell_type": "code",
   "execution_count": 65,
   "id": "6d35a4aa-002d-4668-86cb-3ac12b48f781",
   "metadata": {},
   "outputs": [
    {
     "data": {
      "text/plain": [
       "{0, 3, 4, 6}"
      ]
     },
     "execution_count": 65,
     "metadata": {},
     "output_type": "execute_result"
    }
   ],
   "source": [
    "a"
   ]
  },
  {
   "cell_type": "code",
   "execution_count": 67,
   "id": "277b9689-7223-4a9b-a6aa-16cb0c0eab6a",
   "metadata": {},
   "outputs": [],
   "source": [
    "a.update(['syed','abhi'])"
   ]
  },
  {
   "cell_type": "code",
   "execution_count": 68,
   "id": "fa2b7062-c10d-4db3-b42c-276889b72955",
   "metadata": {},
   "outputs": [
    {
     "data": {
      "text/plain": [
       "{0, 3, 4, 6, 'abhi', 'syed'}"
      ]
     },
     "execution_count": 68,
     "metadata": {},
     "output_type": "execute_result"
    }
   ],
   "source": [
    "a"
   ]
  },
  {
   "cell_type": "code",
   "execution_count": 69,
   "id": "9eb0deee-b3db-471c-adb6-e84f64537c27",
   "metadata": {},
   "outputs": [],
   "source": [
    "# set can hold only immutable data properties"
   ]
  },
  {
   "cell_type": "code",
   "execution_count": 70,
   "id": "d9d1ab87-0dd9-4f22-816e-98c485da556c",
   "metadata": {},
   "outputs": [
    {
     "ename": "TypeError",
     "evalue": "unhashable type: 'list'",
     "output_type": "error",
     "traceback": [
      "\u001b[0;31m---------------------------------------------------------------------------\u001b[0m",
      "\u001b[0;31mTypeError\u001b[0m                                 Traceback (most recent call last)",
      "Cell \u001b[0;32mIn[70], line 1\u001b[0m\n\u001b[0;32m----> 1\u001b[0m set2 \u001b[38;5;241m=\u001b[39m {\u001b[38;5;241m10\u001b[39m,\u001b[38;5;241m30\u001b[39m,\u001b[38;5;241m40\u001b[39m,\u001b[38;5;124m\"\u001b[39m\u001b[38;5;124ma\u001b[39m\u001b[38;5;124m\"\u001b[39m,[\u001b[38;5;241m34\u001b[39m,\u001b[38;5;241m56\u001b[39m,\u001b[38;5;241m78\u001b[39m]}\n",
      "\u001b[0;31mTypeError\u001b[0m: unhashable type: 'list'"
     ]
    }
   ],
   "source": [
    "set2 = {10,30,40,\"a\",[34,56,78]}"
   ]
  },
  {
   "cell_type": "code",
   "execution_count": 71,
   "id": "49d12868-27af-4d8e-bc26-44d610a1a349",
   "metadata": {},
   "outputs": [
    {
     "ename": "TypeError",
     "evalue": "unhashable type: 'dict'",
     "output_type": "error",
     "traceback": [
      "\u001b[0;31m---------------------------------------------------------------------------\u001b[0m",
      "\u001b[0;31mTypeError\u001b[0m                                 Traceback (most recent call last)",
      "Cell \u001b[0;32mIn[71], line 1\u001b[0m\n\u001b[0;32m----> 1\u001b[0m set2 \u001b[38;5;241m=\u001b[39m {\u001b[38;5;241m10\u001b[39m,\u001b[38;5;241m30\u001b[39m,\u001b[38;5;241m40\u001b[39m,\u001b[38;5;124m\"\u001b[39m\u001b[38;5;124ma\u001b[39m\u001b[38;5;124m\"\u001b[39m,{\u001b[38;5;241m34\u001b[39m:\u001b[38;5;241m56\u001b[39m,\u001b[38;5;241m78\u001b[39m:\u001b[38;5;241m10\u001b[39m}}\n",
      "\u001b[0;31mTypeError\u001b[0m: unhashable type: 'dict'"
     ]
    }
   ],
   "source": [
    "set2 = {10,30,40,\"a\",{34:56,78:10}}"
   ]
  },
  {
   "cell_type": "code",
   "execution_count": 72,
   "id": "25f806ac-e986-40d0-aa7c-07e06cda0526",
   "metadata": {},
   "outputs": [],
   "source": [
    "set2 = {10,30,40,\"a\",(34,56,78)}"
   ]
  },
  {
   "cell_type": "code",
   "execution_count": 73,
   "id": "502fe510-0a78-4358-aeda-965cbf5d71d1",
   "metadata": {},
   "outputs": [
    {
     "data": {
      "text/plain": [
       "{(34, 56, 78), 10, 30, 40, 'a'}"
      ]
     },
     "execution_count": 73,
     "metadata": {},
     "output_type": "execute_result"
    }
   ],
   "source": [
    "set2"
   ]
  },
  {
   "cell_type": "code",
   "execution_count": 74,
   "id": "e6516fc4-68da-4b23-9f45-87b9d75a19a0",
   "metadata": {},
   "outputs": [],
   "source": [
    "# remove and discard"
   ]
  },
  {
   "cell_type": "code",
   "execution_count": 75,
   "id": "0131b307-41d3-41be-8efa-e08bd995faa6",
   "metadata": {},
   "outputs": [
    {
     "data": {
      "text/plain": [
       "{67, 7, 89, 9, 'A'}"
      ]
     },
     "execution_count": 75,
     "metadata": {},
     "output_type": "execute_result"
    }
   ],
   "source": [
    "set1"
   ]
  },
  {
   "cell_type": "code",
   "execution_count": 76,
   "id": "1ce6d7d8-afc9-4683-945f-086cb2dec383",
   "metadata": {},
   "outputs": [
    {
     "ename": "KeyError",
     "evalue": "'Abhishek'",
     "output_type": "error",
     "traceback": [
      "\u001b[0;31m---------------------------------------------------------------------------\u001b[0m",
      "\u001b[0;31mKeyError\u001b[0m                                  Traceback (most recent call last)",
      "Cell \u001b[0;32mIn[76], line 1\u001b[0m\n\u001b[0;32m----> 1\u001b[0m set1\u001b[38;5;241m.\u001b[39mremove(\u001b[38;5;124m\"\u001b[39m\u001b[38;5;124mAbhishek\u001b[39m\u001b[38;5;124m\"\u001b[39m)\n",
      "\u001b[0;31mKeyError\u001b[0m: 'Abhishek'"
     ]
    }
   ],
   "source": [
    "set1.remove(\"Abhishek\")"
   ]
  },
  {
   "cell_type": "code",
   "execution_count": 77,
   "id": "9753bcdc-873c-4eb1-9d1d-c4206a18b554",
   "metadata": {},
   "outputs": [],
   "source": [
    "set1.discard(\"Abhishek\")"
   ]
  },
  {
   "cell_type": "markdown",
   "id": "a1c25faf-4771-48ad-9e24-0990e88112dd",
   "metadata": {},
   "source": [
    "# remove vs discard\n",
    "both function remove the data based on item'name, but remove raise an exeception when item is not the part of your set, where as discard does not raise any excpetion if item is not the part of set."
   ]
  },
  {
   "cell_type": "code",
   "execution_count": 78,
   "id": "04ed943a-a054-4583-b66d-457f7c5f9c27",
   "metadata": {},
   "outputs": [],
   "source": [
    "set1 = {}"
   ]
  },
  {
   "cell_type": "code",
   "execution_count": 79,
   "id": "575da957-9f92-4d06-a6a8-73f244145af6",
   "metadata": {},
   "outputs": [
    {
     "ename": "AttributeError",
     "evalue": "'dict' object has no attribute 'add'",
     "output_type": "error",
     "traceback": [
      "\u001b[0;31m---------------------------------------------------------------------------\u001b[0m",
      "\u001b[0;31mAttributeError\u001b[0m                            Traceback (most recent call last)",
      "Cell \u001b[0;32mIn[79], line 1\u001b[0m\n\u001b[0;32m----> 1\u001b[0m set1\u001b[38;5;241m.\u001b[39madd(\u001b[38;5;124m\"\u001b[39m\u001b[38;5;124mAbhishek\u001b[39m\u001b[38;5;124m\"\u001b[39m)\n",
      "\u001b[0;31mAttributeError\u001b[0m: 'dict' object has no attribute 'add'"
     ]
    }
   ],
   "source": [
    "set1.add(\"Abhishek\")"
   ]
  },
  {
   "cell_type": "code",
   "execution_count": null,
   "id": "3d39bbb3-d527-4d2b-891d-466686a72a4a",
   "metadata": {},
   "outputs": [],
   "source": []
  }
 ],
 "metadata": {
  "kernelspec": {
   "display_name": "Python 3 (ipykernel)",
   "language": "python",
   "name": "python3"
  },
  "language_info": {
   "codemirror_mode": {
    "name": "ipython",
    "version": 3
   },
   "file_extension": ".py",
   "mimetype": "text/x-python",
   "name": "python",
   "nbconvert_exporter": "python",
   "pygments_lexer": "ipython3",
   "version": "3.12.7"
  }
 },
 "nbformat": 4,
 "nbformat_minor": 5
}
