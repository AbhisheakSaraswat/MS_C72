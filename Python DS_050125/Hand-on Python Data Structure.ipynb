{
 "cells": [
  {
   "cell_type": "markdown",
   "id": "fe739ba4-8f07-4a4f-b4d6-984534173147",
   "metadata": {},
   "source": [
    "### Hand-on Python Data Structure:"
   ]
  },
  {
   "cell_type": "markdown",
   "id": "756f56ea-d124-4304-b2ae-75f0f482e98e",
   "metadata": {},
   "source": [
    "### In Python:\n",
    "\n",
    "* List\n",
    "* Tuple\n",
    "* Set\n",
    "* Dict"
   ]
  },
  {
   "cell_type": "markdown",
   "id": "fd7e1be6-0846-4a9d-99fd-82eb38ffe6ed",
   "metadata": {},
   "source": [
    "### List Data Structure:\n",
    "Rules and Guidelines of List Data Structure:\n",
    "* List is seqential data structure\n",
    "* List is mutable data structure\n",
    "* List enclosed within the long bracket\n",
    "* List can be created using [] and using list function.\n",
    "* List is indexable data structure in Python\n",
    "\n",
    "<b> Note </b> : List data structure can store any kind of data.\n"
   ]
  },
  {
   "cell_type": "code",
   "execution_count": 1,
   "id": "376c519a-b1fe-4e64-928a-f20208b5da17",
   "metadata": {},
   "outputs": [
    {
     "name": "stdout",
     "output_type": "stream",
     "text": [
      "All the functions from List:  ['append', 'clear', 'copy', 'count', 'extend', 'index', 'insert', 'pop', 'remove', 'reverse', 'sort']\n"
     ]
    }
   ],
   "source": [
    "print(\"All the functions from List: \" , [i for i in dir(list) if \"__\" not in i])"
   ]
  },
  {
   "cell_type": "markdown",
   "id": "5a205bef-ae12-478f-86a3-75138423fe68",
   "metadata": {},
   "source": [
    "### List Creation"
   ]
  },
  {
   "cell_type": "code",
   "execution_count": 2,
   "id": "c31355da-9d0d-475d-9ac4-c5b80f983cf1",
   "metadata": {},
   "outputs": [],
   "source": [
    "lst = []\n",
    "lst1 = list()"
   ]
  },
  {
   "cell_type": "code",
   "execution_count": 3,
   "id": "4ec9fa30-8ac7-4bb2-9d97-50e68dc63ecf",
   "metadata": {},
   "outputs": [
    {
     "data": {
      "text/plain": [
       "[]"
      ]
     },
     "execution_count": 3,
     "metadata": {},
     "output_type": "execute_result"
    }
   ],
   "source": [
    "lst"
   ]
  },
  {
   "cell_type": "code",
   "execution_count": 4,
   "id": "9dc1c906-fa35-4e7d-9e84-d024a7a40b63",
   "metadata": {},
   "outputs": [
    {
     "data": {
      "text/plain": [
       "[]"
      ]
     },
     "execution_count": 4,
     "metadata": {},
     "output_type": "execute_result"
    }
   ],
   "source": [
    "lst1"
   ]
  },
  {
   "cell_type": "markdown",
   "id": "76bd2f0a-4dda-45a5-ad3f-f63d75a48327",
   "metadata": {},
   "source": [
    "### List Append Function\n",
    "Using this function we can append a single item at the end of list."
   ]
  },
  {
   "cell_type": "code",
   "execution_count": 5,
   "id": "6c56b5b1-1fa1-4834-a064-7b973c28ca25",
   "metadata": {},
   "outputs": [],
   "source": [
    "lst = [1,2,3,4]  # list with numbers"
   ]
  },
  {
   "cell_type": "code",
   "execution_count": 6,
   "id": "ea8f6f6d-a46b-4043-8c3b-93194c58668f",
   "metadata": {},
   "outputs": [
    {
     "data": {
      "text/plain": [
       "[1, 2, 3, 4]"
      ]
     },
     "execution_count": 6,
     "metadata": {},
     "output_type": "execute_result"
    }
   ],
   "source": [
    "lst"
   ]
  },
  {
   "cell_type": "code",
   "execution_count": 7,
   "id": "164b3dfa-2611-4bc8-a5f0-38dd9f676dbf",
   "metadata": {},
   "outputs": [],
   "source": [
    "lst = [1,2,'Prabhjot','upGrad',12.34, True]"
   ]
  },
  {
   "cell_type": "code",
   "execution_count": 8,
   "id": "c92794fb-b52a-492d-ad43-1bc4a4e0af70",
   "metadata": {},
   "outputs": [
    {
     "data": {
      "text/plain": [
       "[1, 2, 'Prabhjot', 'upGrad', 12.34, True]"
      ]
     },
     "execution_count": 8,
     "metadata": {},
     "output_type": "execute_result"
    }
   ],
   "source": [
    "lst"
   ]
  },
  {
   "cell_type": "markdown",
   "id": "856a4ba8-5707-49e3-8de8-8e3e00bd60e7",
   "metadata": {},
   "source": [
    "### Note:\n",
    "\n",
    "List can contains elements of different data types."
   ]
  },
  {
   "cell_type": "code",
   "execution_count": 9,
   "id": "d7aff13f-57c9-483c-81b7-3563aa8e6790",
   "metadata": {},
   "outputs": [],
   "source": [
    "# append\n",
    "lst1 = [10,20,30,40]"
   ]
  },
  {
   "cell_type": "code",
   "execution_count": 10,
   "id": "ea84ef65-830e-4ca7-a25e-6401bd2e4468",
   "metadata": {},
   "outputs": [],
   "source": [
    "lst1.append(\"Rohit\")"
   ]
  },
  {
   "cell_type": "code",
   "execution_count": 11,
   "id": "5e9ee1e8-c103-4d29-90a6-3ce80b6a58ac",
   "metadata": {},
   "outputs": [
    {
     "data": {
      "text/plain": [
       "[10, 20, 30, 40, 'Rohit']"
      ]
     },
     "execution_count": 11,
     "metadata": {},
     "output_type": "execute_result"
    }
   ],
   "source": [
    "lst1"
   ]
  },
  {
   "cell_type": "code",
   "execution_count": 12,
   "id": "6a5ee75e-5be1-40be-98bc-e8e22de78d6f",
   "metadata": {},
   "outputs": [
    {
     "data": {
      "text/plain": [
       "'Append object to the end of the list.'"
      ]
     },
     "execution_count": 12,
     "metadata": {},
     "output_type": "execute_result"
    }
   ],
   "source": [
    "lst1.append.__doc__"
   ]
  },
  {
   "cell_type": "code",
   "execution_count": 13,
   "id": "1212cb51-21d4-4a20-81f6-d002233bc17b",
   "metadata": {},
   "outputs": [],
   "source": [
    "newList = [\"Modi\",\"Trump\",\"Jocinda\",\"Putin\"]"
   ]
  },
  {
   "cell_type": "code",
   "execution_count": 14,
   "id": "9de33932-a858-4514-8255-a4a0eeb29c1e",
   "metadata": {},
   "outputs": [
    {
     "data": {
      "text/plain": [
       "[10, 20, 30, 40, 'Rohit']"
      ]
     },
     "execution_count": 14,
     "metadata": {},
     "output_type": "execute_result"
    }
   ],
   "source": [
    "lst1"
   ]
  },
  {
   "cell_type": "code",
   "execution_count": 15,
   "id": "ef687b48-1e73-48d6-a737-8f520cb9c6be",
   "metadata": {},
   "outputs": [],
   "source": [
    "lst1.append(newList)"
   ]
  },
  {
   "cell_type": "code",
   "execution_count": 16,
   "id": "a8bad431-3244-46d5-b93c-ba0759546fed",
   "metadata": {},
   "outputs": [
    {
     "name": "stdout",
     "output_type": "stream",
     "text": [
      "[10, 20, 30, 40, 'Rohit', ['Modi', 'Trump', 'Jocinda', 'Putin']]\n"
     ]
    }
   ],
   "source": [
    "print(lst1)"
   ]
  },
  {
   "cell_type": "markdown",
   "id": "a36255b9-8583-4405-8006-18af6cb6eb8c",
   "metadata": {},
   "source": [
    "### How to get doc string of a function?\n",
    "docstring: Using the doc string we can understand what does that function. Docstring is guide for us."
   ]
  },
  {
   "cell_type": "code",
   "execution_count": 17,
   "id": "2cf1a98e-b1ec-4cff-8f58-4c25583c2233",
   "metadata": {},
   "outputs": [
    {
     "data": {
      "text/plain": [
       "\u001b[0;31mSignature:\u001b[0m \u001b[0mlst\u001b[0m\u001b[0;34m.\u001b[0m\u001b[0mappend\u001b[0m\u001b[0;34m(\u001b[0m\u001b[0mobject\u001b[0m\u001b[0;34m,\u001b[0m \u001b[0;34m/\u001b[0m\u001b[0;34m)\u001b[0m\u001b[0;34m\u001b[0m\u001b[0;34m\u001b[0m\u001b[0m\n",
       "\u001b[0;31mDocstring:\u001b[0m Append object to the end of the list.\n",
       "\u001b[0;31mType:\u001b[0m      builtin_function_or_method"
      ]
     },
     "metadata": {},
     "output_type": "display_data"
    }
   ],
   "source": [
    "lst.append?"
   ]
  },
  {
   "cell_type": "code",
   "execution_count": 18,
   "id": "e71fc3fc-acee-4852-9ee2-e29612e17ccd",
   "metadata": {},
   "outputs": [
    {
     "data": {
      "text/plain": [
       "'Append object to the end of the list.'"
      ]
     },
     "execution_count": 18,
     "metadata": {},
     "output_type": "execute_result"
    }
   ],
   "source": [
    "lst.append.__doc__"
   ]
  },
  {
   "cell_type": "markdown",
   "id": "9a2fb9b7-d83a-4e87-b5b1-29f41b7022e8",
   "metadata": {},
   "source": [
    "### Extend Function"
   ]
  },
  {
   "cell_type": "code",
   "execution_count": 21,
   "id": "ce63ebc8-003b-406d-806b-2ced578e9ea2",
   "metadata": {},
   "outputs": [],
   "source": [
    "# lst.extend? #  Extend list by appending elements from the iterable."
   ]
  },
  {
   "cell_type": "code",
   "execution_count": 22,
   "id": "050f6c1c-45b9-418d-ab5e-cf2c8223e7e2",
   "metadata": {},
   "outputs": [
    {
     "data": {
      "text/plain": [
       "[1, 2, 'Prabhjot', 'upGrad', 12.34, True]"
      ]
     },
     "execution_count": 22,
     "metadata": {},
     "output_type": "execute_result"
    }
   ],
   "source": [
    "lst"
   ]
  },
  {
   "cell_type": "code",
   "execution_count": 23,
   "id": "f2cfb07c-b7b3-4d33-b977-c4d5f9e89edd",
   "metadata": {},
   "outputs": [],
   "source": [
    "lst.extend('ABC')\n",
    "# each item form the string will be added as separated item into the list"
   ]
  },
  {
   "cell_type": "code",
   "execution_count": 24,
   "id": "299a9ec6-a7fc-4ee8-861d-d23fde1659ed",
   "metadata": {},
   "outputs": [
    {
     "data": {
      "text/plain": [
       "[1, 2, 'Prabhjot', 'upGrad', 12.34, True, 'A', 'B', 'C']"
      ]
     },
     "execution_count": 24,
     "metadata": {},
     "output_type": "execute_result"
    }
   ],
   "source": [
    "lst"
   ]
  },
  {
   "cell_type": "code",
   "execution_count": 25,
   "id": "fe0326ef-3e61-4c11-a064-ccd0ad5f3a59",
   "metadata": {},
   "outputs": [],
   "source": [
    "# is it posible you can add 100 using the extend"
   ]
  },
  {
   "cell_type": "code",
   "execution_count": 26,
   "id": "86d4aef3-d1c7-45ba-9c26-606da6c174d0",
   "metadata": {},
   "outputs": [
    {
     "ename": "TypeError",
     "evalue": "'int' object is not iterable",
     "output_type": "error",
     "traceback": [
      "\u001b[0;31m---------------------------------------------------------------------------\u001b[0m",
      "\u001b[0;31mTypeError\u001b[0m                                 Traceback (most recent call last)",
      "Cell \u001b[0;32mIn[26], line 1\u001b[0m\n\u001b[0;32m----> 1\u001b[0m lst\u001b[38;5;241m.\u001b[39mextend(\u001b[38;5;241m100\u001b[39m)\n",
      "\u001b[0;31mTypeError\u001b[0m: 'int' object is not iterable"
     ]
    }
   ],
   "source": [
    "lst.extend(100)"
   ]
  },
  {
   "cell_type": "code",
   "execution_count": 27,
   "id": "fa3559f4-5897-4881-b02a-e0a8937621a2",
   "metadata": {},
   "outputs": [],
   "source": [
    "# What is iterable:\n",
    "# iterable just a container that container store some information\n",
    "# eg. string, list, tuple set etc are iterables\n",
    "# Note: Numbers are interables"
   ]
  },
  {
   "cell_type": "code",
   "execution_count": 28,
   "id": "e3bfd6de-8b67-49b4-a6e1-378d7fd2cb0b",
   "metadata": {},
   "outputs": [
    {
     "data": {
      "text/plain": [
       "[1, 2, 'Prabhjot', 'upGrad', 12.34, True, 'A', 'B', 'C']"
      ]
     },
     "execution_count": 28,
     "metadata": {},
     "output_type": "execute_result"
    }
   ],
   "source": [
    "lst"
   ]
  },
  {
   "cell_type": "code",
   "execution_count": 29,
   "id": "70b5119b-19be-4cab-a77d-005bd77cba75",
   "metadata": {},
   "outputs": [],
   "source": [
    "lst.extend([100])"
   ]
  },
  {
   "cell_type": "code",
   "execution_count": 30,
   "id": "3069e32a-de1b-4863-991a-9d9d3c32c01e",
   "metadata": {},
   "outputs": [
    {
     "data": {
      "text/plain": [
       "[1, 2, 'Prabhjot', 'upGrad', 12.34, True, 'A', 'B', 'C', 100]"
      ]
     },
     "execution_count": 30,
     "metadata": {},
     "output_type": "execute_result"
    }
   ],
   "source": [
    "lst"
   ]
  },
  {
   "cell_type": "code",
   "execution_count": 31,
   "id": "9642a1f6-d9f4-4e6c-98ce-e1603e6f47f4",
   "metadata": {},
   "outputs": [],
   "source": [
    "lst.extend(\"100\")"
   ]
  },
  {
   "cell_type": "code",
   "execution_count": 32,
   "id": "7ff54900-5316-4ee3-8222-2b203cab21d3",
   "metadata": {},
   "outputs": [
    {
     "data": {
      "text/plain": [
       "[1, 2, 'Prabhjot', 'upGrad', 12.34, True, 'A', 'B', 'C', 100, '1', '0', '0']"
      ]
     },
     "execution_count": 32,
     "metadata": {},
     "output_type": "execute_result"
    }
   ],
   "source": [
    "lst"
   ]
  },
  {
   "cell_type": "code",
   "execution_count": 33,
   "id": "8493f65b-d66d-4f43-a506-4b939e987871",
   "metadata": {},
   "outputs": [],
   "source": [
    "# append vs extend\n"
   ]
  },
  {
   "cell_type": "markdown",
   "id": "4766cb31-56ef-48d7-8e53-24453a1494f7",
   "metadata": {},
   "source": [
    "using an append we can append an item at the end of the list, it will be increase the length of your list by 1 only.\n",
    "\n",
    "Using extend: Extend can accept only iterables to extend a list, it will be increase the length based on iterable length."
   ]
  },
  {
   "cell_type": "code",
   "execution_count": 34,
   "id": "90dc60a2-d5d4-4116-a582-e74a46a7ea44",
   "metadata": {},
   "outputs": [],
   "source": [
    "numbers = [10,20,23,45,67,89,10,34,5,10,-20,32,10,45,30,10,47,89,10,34,10,45]"
   ]
  },
  {
   "cell_type": "code",
   "execution_count": 36,
   "id": "07fceff0-8833-4577-8915-2a5c22513911",
   "metadata": {},
   "outputs": [
    {
     "name": "stdout",
     "output_type": "stream",
     "text": [
      "[10, 20, 23, 45, 67, 89, 10, 34, 5, 10, -20, 32, 10, 45, 30, 10, 47, 89, 10, 34, 10, 45]\n"
     ]
    }
   ],
   "source": [
    "print(numbers)"
   ]
  },
  {
   "cell_type": "code",
   "execution_count": 37,
   "id": "26dfde57-5bcb-49f7-9a93-fd677e3efe9d",
   "metadata": {},
   "outputs": [
    {
     "data": {
      "text/plain": [
       "22"
      ]
     },
     "execution_count": 37,
     "metadata": {},
     "output_type": "execute_result"
    }
   ],
   "source": [
    "len(numbers)"
   ]
  },
  {
   "cell_type": "markdown",
   "id": "8be32b65-d85b-4616-8cb7-cebdc80ad014",
   "metadata": {},
   "source": [
    "### List is a indexable data structure.\n",
    "In Python, Index always starts with 0 to n - 1"
   ]
  },
  {
   "cell_type": "code",
   "execution_count": 38,
   "id": "f745d7cc-5361-4969-b75f-48d38f3301d8",
   "metadata": {},
   "outputs": [
    {
     "data": {
      "text/plain": [
       "0"
      ]
     },
     "execution_count": 38,
     "metadata": {},
     "output_type": "execute_result"
    }
   ],
   "source": [
    "numbers.index(10)"
   ]
  },
  {
   "cell_type": "code",
   "execution_count": 39,
   "id": "eea57a90-cdea-43cf-872b-2d89dc6a77fa",
   "metadata": {},
   "outputs": [
    {
     "data": {
      "text/plain": [
       "6"
      ]
     },
     "execution_count": 39,
     "metadata": {},
     "output_type": "execute_result"
    }
   ],
   "source": [
    "numbers.index(10,1)"
   ]
  },
  {
   "cell_type": "code",
   "execution_count": 40,
   "id": "a187bfcb-9451-4568-b44b-a621e48046da",
   "metadata": {},
   "outputs": [
    {
     "data": {
      "text/plain": [
       "9"
      ]
     },
     "execution_count": 40,
     "metadata": {},
     "output_type": "execute_result"
    }
   ],
   "source": [
    "numbers.index(10, 6 + 1)"
   ]
  },
  {
   "cell_type": "code",
   "execution_count": 41,
   "id": "53a739cf-a01f-48e4-a88a-44fc053b2311",
   "metadata": {},
   "outputs": [
    {
     "name": "stdout",
     "output_type": "stream",
     "text": [
      "[10, 20, 23, 45, 67, 89, 10, 34, 5, 10, -20, 32, 10, 45, 30, 10, 47, 89, 10, 34, 10, 45]\n"
     ]
    }
   ],
   "source": [
    "print(numbers)"
   ]
  },
  {
   "cell_type": "code",
   "execution_count": 42,
   "id": "0c6d18d4-26c7-47b0-ae93-9947248a06d5",
   "metadata": {},
   "outputs": [
    {
     "data": {
      "text/plain": [
       "9"
      ]
     },
     "execution_count": 42,
     "metadata": {},
     "output_type": "execute_result"
    }
   ],
   "source": [
    "numbers.index(10, numbers.index(10,1) + 1)"
   ]
  },
  {
   "cell_type": "code",
   "execution_count": 43,
   "id": "f02c5d01-6c08-4ba3-a287-7b2b81d1adac",
   "metadata": {},
   "outputs": [
    {
     "data": {
      "text/plain": [
       "12"
      ]
     },
     "execution_count": 43,
     "metadata": {},
     "output_type": "execute_result"
    }
   ],
   "source": [
    "numbers.index(10, numbers.index(10, numbers.index(10,1) + 1)+1)"
   ]
  },
  {
   "cell_type": "code",
   "execution_count": 44,
   "id": "65a2f035-ea96-46ee-9647-821391177e4f",
   "metadata": {},
   "outputs": [
    {
     "data": {
      "text/plain": [
       "15"
      ]
     },
     "execution_count": 44,
     "metadata": {},
     "output_type": "execute_result"
    }
   ],
   "source": [
    "numbers.index(10,numbers.index(10, numbers.index(10, numbers.index(10,1) + 1)+1)+1)"
   ]
  },
  {
   "cell_type": "code",
   "execution_count": 45,
   "id": "b315fc0d-9981-4789-99e3-8c380c296218",
   "metadata": {},
   "outputs": [
    {
     "name": "stdout",
     "output_type": "stream",
     "text": [
      "[10, 20, 23, 45, 67, 89, 10, 34, 5, 10, -20, 32, 10, 45, 30, 10, 47, 89, 10, 34, 10, 45]\n"
     ]
    }
   ],
   "source": [
    "print(numbers)"
   ]
  },
  {
   "cell_type": "code",
   "execution_count": 46,
   "id": "5065f9ec-5659-415d-91eb-b3b0099c3b71",
   "metadata": {},
   "outputs": [
    {
     "data": {
      "text/plain": [
       "0"
      ]
     },
     "execution_count": 46,
     "metadata": {},
     "output_type": "execute_result"
    }
   ],
   "source": [
    "numbers.index(10)"
   ]
  },
  {
   "cell_type": "code",
   "execution_count": 47,
   "id": "74e7108d-a3d7-48fd-a435-acf43384ca30",
   "metadata": {},
   "outputs": [
    {
     "data": {
      "text/plain": [
       "6"
      ]
     },
     "execution_count": 47,
     "metadata": {},
     "output_type": "execute_result"
    }
   ],
   "source": [
    "numbers.index(10,1)"
   ]
  },
  {
   "cell_type": "code",
   "execution_count": 48,
   "id": "286c2da6-fd0d-4333-9b6e-4ef167c0df93",
   "metadata": {},
   "outputs": [
    {
     "data": {
      "text/plain": [
       "9"
      ]
     },
     "execution_count": 48,
     "metadata": {},
     "output_type": "execute_result"
    }
   ],
   "source": [
    "numbers.index(10,7)"
   ]
  },
  {
   "cell_type": "markdown",
   "id": "4f1d7325-9a89-41c6-8035-b268f348c564",
   "metadata": {},
   "source": [
    "### Count"
   ]
  },
  {
   "cell_type": "code",
   "execution_count": 51,
   "id": "9a06ae2e-4718-4028-a80d-16d7243cd54d",
   "metadata": {},
   "outputs": [
    {
     "data": {
      "text/plain": [
       "7"
      ]
     },
     "execution_count": 51,
     "metadata": {},
     "output_type": "execute_result"
    }
   ],
   "source": [
    "numbers.count(10)"
   ]
  },
  {
   "cell_type": "markdown",
   "id": "30218160-49f6-4910-9c30-3690ae0ffef5",
   "metadata": {},
   "source": [
    "### Insert Function"
   ]
  },
  {
   "cell_type": "code",
   "execution_count": 52,
   "id": "4f8e380b-e7de-4745-8764-74296ece3c82",
   "metadata": {},
   "outputs": [
    {
     "data": {
      "text/plain": [
       "[1, 2, 'Prabhjot', 'upGrad', 12.34, True, 'A', 'B', 'C', 100, '1', '0', '0']"
      ]
     },
     "execution_count": 52,
     "metadata": {},
     "output_type": "execute_result"
    }
   ],
   "source": [
    "lst"
   ]
  },
  {
   "cell_type": "markdown",
   "id": "3919539c-b407-4854-9fab-1912cbd45971",
   "metadata": {},
   "source": [
    "### Insert:\n",
    "\n",
    "Using insert I can insert an item based on index."
   ]
  },
  {
   "cell_type": "code",
   "execution_count": 58,
   "id": "db77c345-d53d-4026-9816-cdd0908b88dd",
   "metadata": {},
   "outputs": [],
   "source": [
    "lst.insert(4,'Abhisheak')"
   ]
  },
  {
   "cell_type": "code",
   "execution_count": 60,
   "id": "4277b23a-92c0-499f-a7a2-6b8b6f5dc546",
   "metadata": {},
   "outputs": [
    {
     "name": "stdout",
     "output_type": "stream",
     "text": [
      "[1, 2, 'Prabhjot', 'upGrad', 'Abhisheak', 12.34, True, 'A', 'B', 'C', 100, '1', '0', '0']\n"
     ]
    }
   ],
   "source": [
    "print(lst)"
   ]
  },
  {
   "cell_type": "code",
   "execution_count": 61,
   "id": "bfa43c2b-fc1d-4949-8373-0913298d40bb",
   "metadata": {},
   "outputs": [],
   "source": [
    "lst.insert(-1,'X')"
   ]
  },
  {
   "cell_type": "code",
   "execution_count": 62,
   "id": "705853a0-88a6-43a5-8a69-e9c27a3a6ccc",
   "metadata": {},
   "outputs": [
    {
     "name": "stdout",
     "output_type": "stream",
     "text": [
      "[1, 2, 'Prabhjot', 'upGrad', 'Abhisheak', 12.34, True, 'A', 'B', 'C', 100, '1', '0', 'X', '0']\n"
     ]
    }
   ],
   "source": [
    "print(lst)"
   ]
  },
  {
   "cell_type": "code",
   "execution_count": 63,
   "id": "c74c32cb-be3f-4c0a-bd43-cf83da4a3aaf",
   "metadata": {},
   "outputs": [
    {
     "data": {
      "text/plain": [
       "'Insert object before index.'"
      ]
     },
     "execution_count": 63,
     "metadata": {},
     "output_type": "execute_result"
    }
   ],
   "source": [
    "list.insert.__doc__"
   ]
  },
  {
   "cell_type": "code",
   "execution_count": 64,
   "id": "a04b8531-5be6-4d7c-a28e-330517b4e97d",
   "metadata": {},
   "outputs": [],
   "source": [
    "lst2 = []"
   ]
  },
  {
   "cell_type": "code",
   "execution_count": 65,
   "id": "cd6904d6-fa30-4b23-97b7-179c08e5a736",
   "metadata": {},
   "outputs": [
    {
     "data": {
      "text/plain": [
       "[]"
      ]
     },
     "execution_count": 65,
     "metadata": {},
     "output_type": "execute_result"
    }
   ],
   "source": [
    "lst2"
   ]
  },
  {
   "cell_type": "code",
   "execution_count": 66,
   "id": "c7df0fe2-a8c6-49f9-ab3a-18e9fe613f4a",
   "metadata": {},
   "outputs": [],
   "source": [
    "lst2.insert(4,'A')"
   ]
  },
  {
   "cell_type": "code",
   "execution_count": 67,
   "id": "dc21828e-421c-4552-b242-3447601e8c89",
   "metadata": {},
   "outputs": [
    {
     "name": "stdout",
     "output_type": "stream",
     "text": [
      "['A']\n"
     ]
    }
   ],
   "source": [
    "print(lst2)"
   ]
  },
  {
   "cell_type": "code",
   "execution_count": 68,
   "id": "e8a4cd29-bfaa-4710-a1f4-175d636070ea",
   "metadata": {},
   "outputs": [],
   "source": [
    "lst2.insert(0,newList)"
   ]
  },
  {
   "cell_type": "code",
   "execution_count": 69,
   "id": "f72c5d23-9b4a-4266-b9c0-7e82cba3f212",
   "metadata": {},
   "outputs": [
    {
     "data": {
      "text/plain": [
       "[['Modi', 'Trump', 'Jocinda', 'Putin'], 'A']"
      ]
     },
     "execution_count": 69,
     "metadata": {},
     "output_type": "execute_result"
    }
   ],
   "source": [
    "lst2"
   ]
  },
  {
   "cell_type": "code",
   "execution_count": 70,
   "id": "5e9d1b34-0b95-4962-84af-b251233e5173",
   "metadata": {},
   "outputs": [],
   "source": [
    "num = [1,4,7,9,0]"
   ]
  },
  {
   "cell_type": "code",
   "execution_count": 71,
   "id": "3eebbb7b-368f-4130-99a8-4af5137bba74",
   "metadata": {},
   "outputs": [],
   "source": [
    "num.insert(-1,'Rakesh')"
   ]
  },
  {
   "cell_type": "code",
   "execution_count": 72,
   "id": "bc0a51e0-17e5-4595-93dd-d94f12f5c462",
   "metadata": {},
   "outputs": [
    {
     "data": {
      "text/plain": [
       "[1, 4, 7, 9, 'Rakesh', 0]"
      ]
     },
     "execution_count": 72,
     "metadata": {},
     "output_type": "execute_result"
    }
   ],
   "source": [
    "num"
   ]
  },
  {
   "cell_type": "code",
   "execution_count": 73,
   "id": "a65bdb75-6803-4e01-af4a-a019f13307c3",
   "metadata": {},
   "outputs": [],
   "source": [
    "# can you insert anyting at the end of list\n",
    "num.append(\"anything\")"
   ]
  },
  {
   "cell_type": "code",
   "execution_count": 74,
   "id": "64686e1b-d5d6-44d3-a3f7-96280073cd7f",
   "metadata": {},
   "outputs": [
    {
     "data": {
      "text/plain": [
       "[1, 4, 7, 9, 'Rakesh', 0, 'anything']"
      ]
     },
     "execution_count": 74,
     "metadata": {},
     "output_type": "execute_result"
    }
   ],
   "source": [
    "num"
   ]
  },
  {
   "cell_type": "code",
   "execution_count": 75,
   "id": "fc7e14f7-ffc1-4f5d-99f9-78978a3d27bc",
   "metadata": {},
   "outputs": [],
   "source": [
    "num = [1,4,7,9,0]"
   ]
  },
  {
   "cell_type": "code",
   "execution_count": 76,
   "id": "215226ca-ffa8-4906-b995-7be1fe67a886",
   "metadata": {},
   "outputs": [],
   "source": [
    "num.insert(len(num),12)"
   ]
  },
  {
   "cell_type": "code",
   "execution_count": 77,
   "id": "0428a09c-fba8-4133-a0cb-375b8b4d33df",
   "metadata": {},
   "outputs": [
    {
     "data": {
      "text/plain": [
       "[1, 4, 7, 9, 0, 12]"
      ]
     },
     "execution_count": 77,
     "metadata": {},
     "output_type": "execute_result"
    }
   ],
   "source": [
    "num"
   ]
  },
  {
   "cell_type": "code",
   "execution_count": 78,
   "id": "5682d527-fe4d-4393-993d-ee9b3f618f34",
   "metadata": {},
   "outputs": [],
   "source": [
    "num.insert(0,'A')"
   ]
  },
  {
   "cell_type": "code",
   "execution_count": 79,
   "id": "2b86e3f2-c6fd-4fb7-b702-a6b8ec0832c3",
   "metadata": {},
   "outputs": [
    {
     "data": {
      "text/plain": [
       "['A', 1, 4, 7, 9, 0, 12]"
      ]
     },
     "execution_count": 79,
     "metadata": {},
     "output_type": "execute_result"
    }
   ],
   "source": [
    "num"
   ]
  },
  {
   "cell_type": "code",
   "execution_count": 81,
   "id": "7b3a94ae-77ee-46d1-9f2c-f8166b027400",
   "metadata": {},
   "outputs": [],
   "source": [
    "num.insert(0,40)\n",
    "num.append(40)"
   ]
  },
  {
   "cell_type": "code",
   "execution_count": 82,
   "id": "b81beba6-703d-4923-83d5-7f9a186f1a74",
   "metadata": {},
   "outputs": [
    {
     "data": {
      "text/plain": [
       "[40, 40, 'A', 1, 4, 7, 9, 0, 12, 40]"
      ]
     },
     "execution_count": 82,
     "metadata": {},
     "output_type": "execute_result"
    }
   ],
   "source": [
    "num"
   ]
  },
  {
   "cell_type": "code",
   "execution_count": 85,
   "id": "2d7ec975-9888-4114-bf98-c4469434a9b5",
   "metadata": {},
   "outputs": [],
   "source": [
    "num = [100] + num + [100]"
   ]
  },
  {
   "cell_type": "code",
   "execution_count": 86,
   "id": "9046f3f3-6f08-4675-be35-ff8c6dddf3cf",
   "metadata": {},
   "outputs": [
    {
     "data": {
      "text/plain": [
       "[100, 40, 40, 'A', 1, 4, 7, 9, 0, 12, 40, 100]"
      ]
     },
     "execution_count": 86,
     "metadata": {},
     "output_type": "execute_result"
    }
   ],
   "source": [
    "num"
   ]
  },
  {
   "cell_type": "code",
   "execution_count": 87,
   "id": "0e15ce47-7f8a-4e3d-9ed1-9f6de4c05145",
   "metadata": {},
   "outputs": [],
   "source": [
    "num = [100,200] + num + [100,300]"
   ]
  },
  {
   "cell_type": "code",
   "execution_count": 88,
   "id": "f2267fc5-5e28-45a9-bd21-39270d4e9797",
   "metadata": {},
   "outputs": [
    {
     "data": {
      "text/plain": [
       "[100, 200, 100, 40, 40, 'A', 1, 4, 7, 9, 0, 12, 40, 100, 100, 300]"
      ]
     },
     "execution_count": 88,
     "metadata": {},
     "output_type": "execute_result"
    }
   ],
   "source": [
    "num"
   ]
  },
  {
   "cell_type": "markdown",
   "id": "f081ba78-13ce-4ca6-b7d9-3ddcaf913c6d",
   "metadata": {},
   "source": [
    "### List copy"
   ]
  },
  {
   "cell_type": "code",
   "execution_count": 89,
   "id": "0a388baf-ad4a-4524-82a0-42a33b23bec5",
   "metadata": {},
   "outputs": [],
   "source": [
    "num1 = num.copy()"
   ]
  },
  {
   "cell_type": "code",
   "execution_count": 90,
   "id": "27db1338-51d8-42ce-8cf7-d475facd845d",
   "metadata": {},
   "outputs": [
    {
     "data": {
      "text/plain": [
       "[100, 200, 100, 40, 40, 'A', 1, 4, 7, 9, 0, 12, 40, 100, 100, 300]"
      ]
     },
     "execution_count": 90,
     "metadata": {},
     "output_type": "execute_result"
    }
   ],
   "source": [
    "num1"
   ]
  },
  {
   "cell_type": "markdown",
   "id": "92ec12f6-5d4e-4002-b078-08865dd42428",
   "metadata": {},
   "source": [
    "### Sort Function\n",
    "\n",
    "Using this function we can sort the our list either in ascending or descending."
   ]
  },
  {
   "cell_type": "code",
   "execution_count": 91,
   "id": "14d03de3-2582-49ad-8941-2b72a8ea8e92",
   "metadata": {},
   "outputs": [],
   "source": [
    "num2 = [20,40,50,12,45,78,90,34,20,40,12]"
   ]
  },
  {
   "cell_type": "code",
   "execution_count": 92,
   "id": "4b44b8f7-3d77-4835-9806-f20ace26f052",
   "metadata": {},
   "outputs": [],
   "source": [
    "num2.sort()"
   ]
  },
  {
   "cell_type": "code",
   "execution_count": 93,
   "id": "ead2b30a-2ff1-46ff-b10b-e58883345fb0",
   "metadata": {},
   "outputs": [
    {
     "data": {
      "text/plain": [
       "[12, 12, 20, 20, 34, 40, 40, 45, 50, 78, 90]"
      ]
     },
     "execution_count": 93,
     "metadata": {},
     "output_type": "execute_result"
    }
   ],
   "source": [
    "num2"
   ]
  },
  {
   "cell_type": "code",
   "execution_count": 94,
   "id": "b14ff40f-8869-40e9-a910-3ada391bf1e0",
   "metadata": {},
   "outputs": [],
   "source": [
    "num2.sort(reverse=True)"
   ]
  },
  {
   "cell_type": "code",
   "execution_count": 95,
   "id": "eaf7d010-0d96-4b6b-b1e1-056bcfa52213",
   "metadata": {},
   "outputs": [
    {
     "data": {
      "text/plain": [
       "[90, 78, 50, 45, 40, 40, 34, 20, 20, 12, 12]"
      ]
     },
     "execution_count": 95,
     "metadata": {},
     "output_type": "execute_result"
    }
   ],
   "source": [
    "num2"
   ]
  },
  {
   "cell_type": "code",
   "execution_count": 96,
   "id": "1b750999-ac93-4f84-a658-476e12a4e296",
   "metadata": {},
   "outputs": [],
   "source": [
    "num2.append(\"G\")"
   ]
  },
  {
   "cell_type": "code",
   "execution_count": 97,
   "id": "61b8b00d-88e1-47d0-9050-440ba53307f2",
   "metadata": {},
   "outputs": [
    {
     "ename": "TypeError",
     "evalue": "'<' not supported between instances of 'str' and 'int'",
     "output_type": "error",
     "traceback": [
      "\u001b[0;31m---------------------------------------------------------------------------\u001b[0m",
      "\u001b[0;31mTypeError\u001b[0m                                 Traceback (most recent call last)",
      "Cell \u001b[0;32mIn[97], line 1\u001b[0m\n\u001b[0;32m----> 1\u001b[0m num2\u001b[38;5;241m.\u001b[39msort()\n",
      "\u001b[0;31mTypeError\u001b[0m: '<' not supported between instances of 'str' and 'int'"
     ]
    }
   ],
   "source": [
    "num2.sort()"
   ]
  },
  {
   "cell_type": "code",
   "execution_count": 104,
   "id": "b6afa0a4-5a1a-4925-b35c-e9d25c4cd024",
   "metadata": {},
   "outputs": [],
   "source": [
    "name = list(\"AbhisheaK\")"
   ]
  },
  {
   "cell_type": "code",
   "execution_count": 105,
   "id": "11d08be7-4e0e-41ca-97e8-36d143cfc02e",
   "metadata": {},
   "outputs": [
    {
     "data": {
      "text/plain": [
       "['A', 'b', 'h', 'i', 's', 'h', 'e', 'a', 'K']"
      ]
     },
     "execution_count": 105,
     "metadata": {},
     "output_type": "execute_result"
    }
   ],
   "source": [
    "name"
   ]
  },
  {
   "cell_type": "code",
   "execution_count": 106,
   "id": "507529e7-51c6-421c-8404-953aead728c1",
   "metadata": {},
   "outputs": [],
   "source": [
    "name.sort()"
   ]
  },
  {
   "cell_type": "code",
   "execution_count": 107,
   "id": "6b716a46-8cab-4cf7-83c2-11fc8505d417",
   "metadata": {},
   "outputs": [
    {
     "data": {
      "text/plain": [
       "['A', 'K', 'a', 'b', 'e', 'h', 'h', 'i', 's']"
      ]
     },
     "execution_count": 107,
     "metadata": {},
     "output_type": "execute_result"
    }
   ],
   "source": [
    "name"
   ]
  },
  {
   "cell_type": "code",
   "execution_count": 108,
   "id": "c55931a6-c977-485c-a5e8-c26829d4f416",
   "metadata": {},
   "outputs": [
    {
     "data": {
      "text/plain": [
       "65"
      ]
     },
     "execution_count": 108,
     "metadata": {},
     "output_type": "execute_result"
    }
   ],
   "source": [
    "ord(\"A\")"
   ]
  },
  {
   "cell_type": "code",
   "execution_count": 109,
   "id": "0b72545c-f42e-410b-afd2-48cf8d9df21f",
   "metadata": {},
   "outputs": [
    {
     "data": {
      "text/plain": [
       "97"
      ]
     },
     "execution_count": 109,
     "metadata": {},
     "output_type": "execute_result"
    }
   ],
   "source": [
    "ord(\"a\")"
   ]
  },
  {
   "cell_type": "code",
   "execution_count": 114,
   "id": "50a124c6-c268-4ca0-ab91-75121ca1ca58",
   "metadata": {},
   "outputs": [],
   "source": [
    "name.append([\"A\",\"B\",\"C\"])"
   ]
  },
  {
   "cell_type": "code",
   "execution_count": 116,
   "id": "23c0b7a7-960f-41ca-bf1d-93a702ee4ed2",
   "metadata": {},
   "outputs": [
    {
     "data": {
      "text/plain": [
       "['A', 'K', 'a', 'b', 'e', 'h', 'h', 'i', 's', ['A', 'B', 'C']]"
      ]
     },
     "execution_count": 116,
     "metadata": {},
     "output_type": "execute_result"
    }
   ],
   "source": [
    "name"
   ]
  },
  {
   "cell_type": "code",
   "execution_count": 117,
   "id": "dd9685db-0909-433b-b212-ca39d1956baf",
   "metadata": {},
   "outputs": [
    {
     "ename": "TypeError",
     "evalue": "'<' not supported between instances of 'list' and 'str'",
     "output_type": "error",
     "traceback": [
      "\u001b[0;31m---------------------------------------------------------------------------\u001b[0m",
      "\u001b[0;31mTypeError\u001b[0m                                 Traceback (most recent call last)",
      "Cell \u001b[0;32mIn[117], line 1\u001b[0m\n\u001b[0;32m----> 1\u001b[0m name\u001b[38;5;241m.\u001b[39msort()\n",
      "\u001b[0;31mTypeError\u001b[0m: '<' not supported between instances of 'list' and 'str'"
     ]
    }
   ],
   "source": [
    "name.sort()"
   ]
  },
  {
   "cell_type": "markdown",
   "id": "c6d0b53e-0506-4f00-b405-c9d0705a6d7c",
   "metadata": {},
   "source": [
    "### Pop and Remove\n",
    "\n",
    "<b> pop : </b>\n",
    "\n",
    "Using pop we can popped an item based on the item's index, if you are not passing any indexing then this function popped the last item from the list. and It is returned the popped item.\n",
    "\n",
    "If your list is empty the it will raise an exeception."
   ]
  },
  {
   "cell_type": "code",
   "execution_count": 118,
   "id": "96428ece-5d99-4106-a14e-b1e80e6c6165",
   "metadata": {},
   "outputs": [
    {
     "data": {
      "text/plain": [
       "[100, 200, 100, 40, 40, 'A', 1, 4, 7, 9, 0, 12, 40, 100, 100, 300]"
      ]
     },
     "execution_count": 118,
     "metadata": {},
     "output_type": "execute_result"
    }
   ],
   "source": [
    "num"
   ]
  },
  {
   "cell_type": "code",
   "execution_count": 119,
   "id": "0719f730-d4ca-4b05-ba55-26954d0d2588",
   "metadata": {},
   "outputs": [
    {
     "data": {
      "text/plain": [
       "300"
      ]
     },
     "execution_count": 119,
     "metadata": {},
     "output_type": "execute_result"
    }
   ],
   "source": [
    "num.pop()"
   ]
  },
  {
   "cell_type": "code",
   "execution_count": 120,
   "id": "46479b61-543e-478a-92bc-c738ab19fdd2",
   "metadata": {},
   "outputs": [
    {
     "data": {
      "text/plain": [
       "[100, 200, 100, 40, 40, 'A', 1, 4, 7, 9, 0, 12, 40, 100, 100]"
      ]
     },
     "execution_count": 120,
     "metadata": {},
     "output_type": "execute_result"
    }
   ],
   "source": [
    "num"
   ]
  },
  {
   "cell_type": "code",
   "execution_count": 121,
   "id": "ae7539bb-b4a1-44d1-b30b-83ceddb14b19",
   "metadata": {},
   "outputs": [
    {
     "data": {
      "text/plain": [
       "'A'"
      ]
     },
     "execution_count": 121,
     "metadata": {},
     "output_type": "execute_result"
    }
   ],
   "source": [
    "num.pop(5)"
   ]
  },
  {
   "cell_type": "code",
   "execution_count": 122,
   "id": "1ed0fe40-c582-4a84-acdb-f3112e3b7a36",
   "metadata": {},
   "outputs": [
    {
     "data": {
      "text/plain": [
       "[100, 200, 100, 40, 40, 1, 4, 7, 9, 0, 12, 40, 100, 100]"
      ]
     },
     "execution_count": 122,
     "metadata": {},
     "output_type": "execute_result"
    }
   ],
   "source": [
    "num"
   ]
  },
  {
   "cell_type": "code",
   "execution_count": 123,
   "id": "7485682c-ce64-40b2-ab29-a29b3fdd288e",
   "metadata": {},
   "outputs": [
    {
     "data": {
      "text/plain": [
       "[100, 200, 100, 40, 40, 1, 4, 7, 9, 0, 12, 40, 100, 100]"
      ]
     },
     "execution_count": 123,
     "metadata": {},
     "output_type": "execute_result"
    }
   ],
   "source": [
    "num"
   ]
  },
  {
   "cell_type": "code",
   "execution_count": 124,
   "id": "05a4ec26-55bb-424a-8d98-b6480b05af90",
   "metadata": {},
   "outputs": [],
   "source": [
    "result = num[:5].copy()"
   ]
  },
  {
   "cell_type": "code",
   "execution_count": 125,
   "id": "6c27937d-c5a1-4db5-8cc8-6c2ad21380c9",
   "metadata": {},
   "outputs": [
    {
     "data": {
      "text/plain": [
       "[100, 200, 100, 40, 40]"
      ]
     },
     "execution_count": 125,
     "metadata": {},
     "output_type": "execute_result"
    }
   ],
   "source": [
    "result"
   ]
  },
  {
   "cell_type": "code",
   "execution_count": 126,
   "id": "1de56358-cb9a-4012-b5fc-95356fc08b56",
   "metadata": {},
   "outputs": [],
   "source": [
    "c = [[]]"
   ]
  },
  {
   "cell_type": "code",
   "execution_count": 127,
   "id": "9627f134-b83f-4f37-b3a9-f70be8a2a98e",
   "metadata": {},
   "outputs": [
    {
     "data": {
      "text/plain": [
       "1"
      ]
     },
     "execution_count": 127,
     "metadata": {},
     "output_type": "execute_result"
    }
   ],
   "source": [
    "len(c)"
   ]
  },
  {
   "cell_type": "code",
   "execution_count": 131,
   "id": "cc2921df-aa2e-499b-ad96-1e2f80f63a2d",
   "metadata": {},
   "outputs": [
    {
     "name": "stdout",
     "output_type": "stream",
     "text": [
      "Remove and return item at index (default last).\n",
      "\n",
      "Raises IndexError if list is empty or index is out of range.\n"
     ]
    }
   ],
   "source": [
    "print(list.pop.__doc__)"
   ]
  },
  {
   "cell_type": "code",
   "execution_count": 128,
   "id": "238e8240-d9c9-4e8d-bcf7-9cffcbfc3c32",
   "metadata": {},
   "outputs": [
    {
     "data": {
      "text/plain": [
       "[]"
      ]
     },
     "execution_count": 128,
     "metadata": {},
     "output_type": "execute_result"
    }
   ],
   "source": [
    "c.pop()"
   ]
  },
  {
   "cell_type": "code",
   "execution_count": 129,
   "id": "0340f9d6-0e36-49e2-b867-dca5bf9ae0e4",
   "metadata": {},
   "outputs": [
    {
     "data": {
      "text/plain": [
       "[]"
      ]
     },
     "execution_count": 129,
     "metadata": {},
     "output_type": "execute_result"
    }
   ],
   "source": [
    "c"
   ]
  },
  {
   "cell_type": "markdown",
   "id": "6c63adba-f48e-4d09-b20c-f26f860c648b",
   "metadata": {},
   "source": [
    "### List Remove\n",
    "\n",
    "Using this function we can remove an item based on item's name\n",
    "Note: remove does not return anything like pop."
   ]
  },
  {
   "cell_type": "code",
   "execution_count": 132,
   "id": "378ce7fa-dbeb-4d38-8af2-3088a18965cd",
   "metadata": {},
   "outputs": [
    {
     "data": {
      "text/plain": [
       "[100, 200, 100, 40, 40, 1, 4, 7, 9, 0, 12, 40, 100, 100]"
      ]
     },
     "execution_count": 132,
     "metadata": {},
     "output_type": "execute_result"
    }
   ],
   "source": [
    "num"
   ]
  },
  {
   "cell_type": "code",
   "execution_count": 133,
   "id": "bfe66415-6e44-4929-a7f1-c91693f94266",
   "metadata": {},
   "outputs": [],
   "source": [
    "num.remove(9)"
   ]
  },
  {
   "cell_type": "code",
   "execution_count": 134,
   "id": "275a35d5-627e-47a8-9998-3ac92ed00c08",
   "metadata": {},
   "outputs": [],
   "source": [
    "num.remove(100)"
   ]
  },
  {
   "cell_type": "code",
   "execution_count": 135,
   "id": "54911279-0cdb-4444-b5d2-d17402d1b7dd",
   "metadata": {},
   "outputs": [
    {
     "data": {
      "text/plain": [
       "[200, 100, 40, 40, 1, 4, 7, 0, 12, 40, 100, 100]"
      ]
     },
     "execution_count": 135,
     "metadata": {},
     "output_type": "execute_result"
    }
   ],
   "source": [
    "num"
   ]
  },
  {
   "cell_type": "code",
   "execution_count": 136,
   "id": "f832063f-e58f-4049-8dd2-acd10034ca91",
   "metadata": {},
   "outputs": [
    {
     "data": {
      "text/plain": [
       "[200, 100, 40, 40, 1, 4, 7, 0, 12, 40, 100, 100]"
      ]
     },
     "execution_count": 136,
     "metadata": {},
     "output_type": "execute_result"
    }
   ],
   "source": [
    "num"
   ]
  },
  {
   "cell_type": "markdown",
   "id": "4f30e048-f36a-4116-be85-7eea62c23d06",
   "metadata": {},
   "source": [
    "# clear"
   ]
  },
  {
   "cell_type": "code",
   "execution_count": 137,
   "id": "0b03d1e9-852e-4cf0-90df-5e71c81c04a9",
   "metadata": {},
   "outputs": [],
   "source": [
    "num.clear()"
   ]
  },
  {
   "cell_type": "code",
   "execution_count": 138,
   "id": "104fb4d7-07c4-4776-933b-4091a69aa88a",
   "metadata": {},
   "outputs": [
    {
     "data": {
      "text/plain": [
       "[]"
      ]
     },
     "execution_count": 138,
     "metadata": {},
     "output_type": "execute_result"
    }
   ],
   "source": [
    "num"
   ]
  },
  {
   "cell_type": "code",
   "execution_count": 139,
   "id": "3c802373-8766-4e54-b168-9c841b2366f6",
   "metadata": {},
   "outputs": [
    {
     "ename": "IndexError",
     "evalue": "pop from empty list",
     "output_type": "error",
     "traceback": [
      "\u001b[0;31m---------------------------------------------------------------------------\u001b[0m",
      "\u001b[0;31mIndexError\u001b[0m                                Traceback (most recent call last)",
      "Cell \u001b[0;32mIn[139], line 1\u001b[0m\n\u001b[0;32m----> 1\u001b[0m num\u001b[38;5;241m.\u001b[39mpop()\n",
      "\u001b[0;31mIndexError\u001b[0m: pop from empty list"
     ]
    }
   ],
   "source": [
    "num.pop()"
   ]
  },
  {
   "cell_type": "code",
   "execution_count": 146,
   "id": "a15c039a-8419-4d74-9416-31ce23f3f066",
   "metadata": {},
   "outputs": [
    {
     "data": {
      "text/plain": [
       "[100, 200, 100, 40, 40, 'A', 1, 4, 7, 9, 0, 12, 40, 100, 100, 300, 'AA']"
      ]
     },
     "execution_count": 146,
     "metadata": {},
     "output_type": "execute_result"
    }
   ],
   "source": [
    "num1"
   ]
  },
  {
   "cell_type": "code",
   "execution_count": 147,
   "id": "86925b0b-68e0-4cf9-aa80-eaf5bb4bcdf4",
   "metadata": {},
   "outputs": [],
   "source": [
    "num1.insert(200,\"AA\")"
   ]
  },
  {
   "cell_type": "code",
   "execution_count": 149,
   "id": "e8688be8-87cd-4e06-b83f-aaa2e6d4eea9",
   "metadata": {},
   "outputs": [
    {
     "data": {
      "text/plain": [
       "[100, 200, 100, 40, 40, 'A', 1, 4, 7, 9, 0, 12, 40, 100, 100, 300, 'AA', 'AA']"
      ]
     },
     "execution_count": 149,
     "metadata": {},
     "output_type": "execute_result"
    }
   ],
   "source": [
    "num1"
   ]
  },
  {
   "cell_type": "code",
   "execution_count": 150,
   "id": "03bc4129-c990-4bc4-b528-3408c6a9e7c1",
   "metadata": {},
   "outputs": [
    {
     "data": {
      "text/plain": [
       "\u001b[0;31mSignature:\u001b[0m \u001b[0mnum1\u001b[0m\u001b[0;34m.\u001b[0m\u001b[0minsert\u001b[0m\u001b[0;34m(\u001b[0m\u001b[0mindex\u001b[0m\u001b[0;34m,\u001b[0m \u001b[0mobject\u001b[0m\u001b[0;34m,\u001b[0m \u001b[0;34m/\u001b[0m\u001b[0;34m)\u001b[0m\u001b[0;34m\u001b[0m\u001b[0;34m\u001b[0m\u001b[0m\n",
       "\u001b[0;31mDocstring:\u001b[0m Insert object before index.\n",
       "\u001b[0;31mType:\u001b[0m      builtin_function_or_method"
      ]
     },
     "metadata": {},
     "output_type": "display_data"
    }
   ],
   "source": [
    "num1.insert?"
   ]
  },
  {
   "cell_type": "code",
   "execution_count": 151,
   "id": "38ce95c9-12e5-42d7-aa7a-a4f319071ebb",
   "metadata": {},
   "outputs": [],
   "source": [
    "l = [1,3,5,7]"
   ]
  },
  {
   "cell_type": "code",
   "execution_count": 152,
   "id": "55e0ae58-63ec-442e-9145-76ca0e2aee54",
   "metadata": {},
   "outputs": [],
   "source": [
    "m = l.copy()"
   ]
  },
  {
   "cell_type": "code",
   "execution_count": 153,
   "id": "8ed63827-f7be-4194-8043-2a07fd496c22",
   "metadata": {},
   "outputs": [
    {
     "data": {
      "text/plain": [
       "4635897024"
      ]
     },
     "execution_count": 153,
     "metadata": {},
     "output_type": "execute_result"
    }
   ],
   "source": [
    "id(m)"
   ]
  },
  {
   "cell_type": "code",
   "execution_count": 154,
   "id": "a98a53d8-4682-48af-99ef-6b262d284ee2",
   "metadata": {},
   "outputs": [
    {
     "data": {
      "text/plain": [
       "4635987712"
      ]
     },
     "execution_count": 154,
     "metadata": {},
     "output_type": "execute_result"
    }
   ],
   "source": [
    "id(l)"
   ]
  },
  {
   "cell_type": "code",
   "execution_count": 155,
   "id": "439c2d93-66ae-4579-abe5-b81833dbd943",
   "metadata": {},
   "outputs": [],
   "source": [
    "n = l"
   ]
  },
  {
   "cell_type": "code",
   "execution_count": 156,
   "id": "288a0807-0452-4148-b4ba-e4b1af93de29",
   "metadata": {},
   "outputs": [
    {
     "data": {
      "text/plain": [
       "4635987712"
      ]
     },
     "execution_count": 156,
     "metadata": {},
     "output_type": "execute_result"
    }
   ],
   "source": [
    "id(n)"
   ]
  },
  {
   "cell_type": "code",
   "execution_count": 157,
   "id": "34a54692-64f4-4a4c-a380-080f42cbb2ed",
   "metadata": {},
   "outputs": [],
   "source": [
    "n.append(\"S\")"
   ]
  },
  {
   "cell_type": "code",
   "execution_count": 159,
   "id": "d6037e0e-395f-4c61-b5b1-b013f1df5e83",
   "metadata": {},
   "outputs": [
    {
     "data": {
      "text/plain": [
       "[1, 3, 5, 7, 'S']"
      ]
     },
     "execution_count": 159,
     "metadata": {},
     "output_type": "execute_result"
    }
   ],
   "source": [
    "n"
   ]
  },
  {
   "cell_type": "code",
   "execution_count": 160,
   "id": "0be8ee1d-5125-4e29-a64d-4e43b7e99b08",
   "metadata": {},
   "outputs": [
    {
     "data": {
      "text/plain": [
       "[1, 3, 5, 7, 'S']"
      ]
     },
     "execution_count": 160,
     "metadata": {},
     "output_type": "execute_result"
    }
   ],
   "source": [
    "l"
   ]
  },
  {
   "cell_type": "code",
   "execution_count": 161,
   "id": "61a5e020-380d-4425-afb7-60ab81ee5a5c",
   "metadata": {},
   "outputs": [],
   "source": [
    "# Copy method will change the address which means new object is created"
   ]
  },
  {
   "cell_type": "code",
   "execution_count": 162,
   "id": "b563afb4-1890-4638-a08e-dcf8c7771a27",
   "metadata": {},
   "outputs": [],
   "source": [
    "num = [1,3,4,5,6,7]"
   ]
  },
  {
   "cell_type": "code",
   "execution_count": 163,
   "id": "a60db06d-7959-4523-bbe6-9fdb48c94c0d",
   "metadata": {},
   "outputs": [
    {
     "data": {
      "text/plain": [
       "4636767616"
      ]
     },
     "execution_count": 163,
     "metadata": {},
     "output_type": "execute_result"
    }
   ],
   "source": [
    "id(num)"
   ]
  },
  {
   "cell_type": "code",
   "execution_count": 164,
   "id": "bbfc8efb-a5e8-4914-839c-5f4b097dc20b",
   "metadata": {},
   "outputs": [],
   "source": [
    "num1 = num.copy()"
   ]
  },
  {
   "cell_type": "code",
   "execution_count": 165,
   "id": "37db8b2c-f89f-4de7-a187-dcbfe1ee4a66",
   "metadata": {},
   "outputs": [
    {
     "data": {
      "text/plain": [
       "4634218368"
      ]
     },
     "execution_count": 165,
     "metadata": {},
     "output_type": "execute_result"
    }
   ],
   "source": [
    "id(num1)"
   ]
  },
  {
   "cell_type": "code",
   "execution_count": 166,
   "id": "2d85dba2-34a9-49a4-b32b-8e576d3a1205",
   "metadata": {},
   "outputs": [
    {
     "data": {
      "text/plain": [
       "[1, 3, 4, 5, 6, 7]"
      ]
     },
     "execution_count": 166,
     "metadata": {},
     "output_type": "execute_result"
    }
   ],
   "source": [
    "num"
   ]
  },
  {
   "cell_type": "code",
   "execution_count": 167,
   "id": "acb6ea4a-1642-48ec-a3db-6310b146065c",
   "metadata": {},
   "outputs": [],
   "source": [
    "num3 = num[:]"
   ]
  },
  {
   "cell_type": "code",
   "execution_count": 168,
   "id": "289b4744-875c-428f-92da-6f3217075dd6",
   "metadata": {},
   "outputs": [
    {
     "data": {
      "text/plain": [
       "[1, 3, 4, 5, 6, 7]"
      ]
     },
     "execution_count": 168,
     "metadata": {},
     "output_type": "execute_result"
    }
   ],
   "source": [
    "num3"
   ]
  },
  {
   "cell_type": "code",
   "execution_count": 169,
   "id": "5ec52081-e6ab-40ec-a438-2f84e28da768",
   "metadata": {},
   "outputs": [
    {
     "data": {
      "text/plain": [
       "4633567744"
      ]
     },
     "execution_count": 169,
     "metadata": {},
     "output_type": "execute_result"
    }
   ],
   "source": [
    "id(num3)"
   ]
  },
  {
   "cell_type": "code",
   "execution_count": 170,
   "id": "f1a319e0-a197-41dc-9a66-7deb4cb2f0b1",
   "metadata": {},
   "outputs": [
    {
     "data": {
      "text/plain": [
       "4636767616"
      ]
     },
     "execution_count": 170,
     "metadata": {},
     "output_type": "execute_result"
    }
   ],
   "source": [
    "id(num)"
   ]
  },
  {
   "cell_type": "code",
   "execution_count": 173,
   "id": "b6ed33fb-3d06-4d77-916a-08df3b0d5089",
   "metadata": {},
   "outputs": [
    {
     "data": {
      "text/plain": [
       "[1, 3, 4, 5, 6, 7]"
      ]
     },
     "execution_count": 173,
     "metadata": {},
     "output_type": "execute_result"
    }
   ],
   "source": [
    "num"
   ]
  },
  {
   "cell_type": "code",
   "execution_count": 174,
   "id": "b8b46c08-d70c-4f4a-8fea-d15fcf8ce0bf",
   "metadata": {},
   "outputs": [],
   "source": [
    "num.reverse()"
   ]
  },
  {
   "cell_type": "code",
   "execution_count": 175,
   "id": "fb1641b3-a023-4002-84ae-11bafd7855ac",
   "metadata": {},
   "outputs": [
    {
     "data": {
      "text/plain": [
       "[7, 6, 5, 4, 3, 1]"
      ]
     },
     "execution_count": 175,
     "metadata": {},
     "output_type": "execute_result"
    }
   ],
   "source": [
    "num"
   ]
  },
  {
   "cell_type": "code",
   "execution_count": 176,
   "id": "19087268-2288-424e-9cf6-a7d9bdaba61b",
   "metadata": {},
   "outputs": [
    {
     "data": {
      "text/plain": [
       "['A', 'K', 'a', 'b', 'e', 'h', 'h', 'i', 's', ['A', 'B', 'C']]"
      ]
     },
     "execution_count": 176,
     "metadata": {},
     "output_type": "execute_result"
    }
   ],
   "source": [
    "name"
   ]
  },
  {
   "cell_type": "code",
   "execution_count": 177,
   "id": "585b8083-f74e-49af-bfd5-5b3b3b9c4b29",
   "metadata": {},
   "outputs": [],
   "source": [
    "name.reverse()"
   ]
  },
  {
   "cell_type": "code",
   "execution_count": 178,
   "id": "4a0bb996-78d9-4559-8d59-b4d1fabc1792",
   "metadata": {},
   "outputs": [
    {
     "data": {
      "text/plain": [
       "[['A', 'B', 'C'], 's', 'i', 'h', 'h', 'e', 'b', 'a', 'K', 'A']"
      ]
     },
     "execution_count": 178,
     "metadata": {},
     "output_type": "execute_result"
    }
   ],
   "source": [
    "name"
   ]
  },
  {
   "cell_type": "code",
   "execution_count": 179,
   "id": "72cda89a-7303-4664-9734-ed4db23a1a62",
   "metadata": {},
   "outputs": [],
   "source": [
    "numbers = [45,67,89,90,34,56]"
   ]
  },
  {
   "cell_type": "code",
   "execution_count": 180,
   "id": "5be07e85-63a2-4516-890a-262cc9fd3db4",
   "metadata": {},
   "outputs": [],
   "source": [
    "numbers.reverse()"
   ]
  },
  {
   "cell_type": "code",
   "execution_count": 181,
   "id": "ff0e51ee-02ca-444d-8140-a80f7d1f00a2",
   "metadata": {},
   "outputs": [
    {
     "data": {
      "text/plain": [
       "[56, 34, 90, 89, 67, 45]"
      ]
     },
     "execution_count": 181,
     "metadata": {},
     "output_type": "execute_result"
    }
   ],
   "source": [
    "numbers"
   ]
  },
  {
   "cell_type": "code",
   "execution_count": 183,
   "id": "e32e2aab-c8ec-48ad-908f-c0692e68f06e",
   "metadata": {},
   "outputs": [],
   "source": [
    "numbers.append(\"ABC\")"
   ]
  },
  {
   "cell_type": "code",
   "execution_count": 184,
   "id": "15d46b98-8ae9-4b13-a9c8-b08fa8bb5e72",
   "metadata": {},
   "outputs": [
    {
     "data": {
      "text/plain": [
       "[56, 34, 90, 89, 67, 45, 'ABC']"
      ]
     },
     "execution_count": 184,
     "metadata": {},
     "output_type": "execute_result"
    }
   ],
   "source": [
    "numbers"
   ]
  },
  {
   "cell_type": "code",
   "execution_count": 185,
   "id": "849be5e9-23c2-4410-b7af-f8c582849729",
   "metadata": {},
   "outputs": [],
   "source": [
    "numbers.reverse()"
   ]
  },
  {
   "cell_type": "code",
   "execution_count": 186,
   "id": "4302f150-81f5-4823-9e0c-49a618355514",
   "metadata": {},
   "outputs": [
    {
     "data": {
      "text/plain": [
       "['ABC', 45, 67, 89, 90, 34, 56]"
      ]
     },
     "execution_count": 186,
     "metadata": {},
     "output_type": "execute_result"
    }
   ],
   "source": [
    "numbers"
   ]
  },
  {
   "cell_type": "code",
   "execution_count": 187,
   "id": "ad97a7aa-cbaf-4982-b41b-183555d40c9f",
   "metadata": {},
   "outputs": [],
   "source": [
    "numbers.reverse()"
   ]
  },
  {
   "cell_type": "code",
   "execution_count": 188,
   "id": "2f332dfe-e00e-4eb6-8efb-2c1580b5d763",
   "metadata": {},
   "outputs": [
    {
     "data": {
      "text/plain": [
       "[56, 34, 90, 89, 67, 45, 'ABC']"
      ]
     },
     "execution_count": 188,
     "metadata": {},
     "output_type": "execute_result"
    }
   ],
   "source": [
    "numbers"
   ]
  },
  {
   "cell_type": "code",
   "execution_count": null,
   "id": "6c16f172-986e-485f-a641-084d5f7984e5",
   "metadata": {},
   "outputs": [],
   "source": []
  }
 ],
 "metadata": {
  "kernelspec": {
   "display_name": "Python 3 (ipykernel)",
   "language": "python",
   "name": "python3"
  },
  "language_info": {
   "codemirror_mode": {
    "name": "ipython",
    "version": 3
   },
   "file_extension": ".py",
   "mimetype": "text/x-python",
   "name": "python",
   "nbconvert_exporter": "python",
   "pygments_lexer": "ipython3",
   "version": "3.12.7"
  }
 },
 "nbformat": 4,
 "nbformat_minor": 5
}
